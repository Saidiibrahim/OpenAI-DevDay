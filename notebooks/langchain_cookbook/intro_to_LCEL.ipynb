{
 "cells": [
  {
   "cell_type": "markdown",
   "metadata": {},
   "source": [
    "## Langchain Expression Language\n",
    "###           (LCEL)\n",
    "\n",
    "- Langchain uses LCEL to compose chains of [components] together\n",
    "- Components that implement and are usable with this language are called [runnables]\n",
    "\n",
    "- image 1\n",
    "\n",
    "- Runnables define some core methods and an allowed set of input types, and\n",
    "output types. There's also a means of modifying parameters at runtime with the bind() method.\n",
    "\n",
    "A concrete example of this is the prompt --> llm --> output_parser trio.\n",
    "\n",
    "And we can do all this composition using the Linux pipe syntax.\n",
    "So it will look something like this\n",
    "Chain = prompt | llm | OutputParser\n",
    "\n",
    "\n",
    "\n",
    "\n",
    "            "
   ]
  },
  {
   "cell_type": "code",
   "execution_count": 1,
   "metadata": {},
   "outputs": [],
   "source": [
    "import os\n",
    "import openai\n",
    "\n",
    "from dotenv import load_dotenv, find_dotenv\n",
    "_ = load_dotenv(find_dotenv()) # read local .env file\n",
    "openai.api_key = os.environ['OPENAI_API_KEY']"
   ]
  },
  {
   "cell_type": "code",
   "execution_count": null,
   "metadata": {},
   "outputs": [],
   "source": [
    "#!pip install pydantic==1.10.8"
   ]
  },
  {
   "cell_type": "code",
   "execution_count": null,
   "metadata": {},
   "outputs": [],
   "source": [
    "from langchain.prompts import ChatPromptTemplate\n",
    "from langchain.chat_models import ChatOpenAI\n",
    "from langchain.schema.output_parser import StrOutputParser"
   ]
  }
 ],
 "metadata": {
  "kernelspec": {
   "display_name": ".venv",
   "language": "python",
   "name": "python3"
  },
  "language_info": {
   "codemirror_mode": {
    "name": "ipython",
    "version": 3
   },
   "file_extension": ".py",
   "mimetype": "text/x-python",
   "name": "python",
   "nbconvert_exporter": "python",
   "pygments_lexer": "ipython3",
   "version": "3.12.1"
  }
 },
 "nbformat": 4,
 "nbformat_minor": 2
}
