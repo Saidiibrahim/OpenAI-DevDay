{
 "cells": [
  {
   "cell_type": "code",
   "execution_count": 1,
   "metadata": {},
   "outputs": [],
   "source": [
    "from openai import OpenAI\n",
    "import json\n",
    "\n",
    "def show_json(obj):\n",
    "    display(json.loads(obj.model_dump_json()))"
   ]
  },
  {
   "cell_type": "code",
   "execution_count": 2,
   "metadata": {},
   "outputs": [],
   "source": [
    "# Example dummy function hard coded to return the same weather\n",
    "# In production, this could be your backend API or an external API\n",
    "def get_current_weather(location, unit=\"fahrenheit\"):\n",
    "    \"\"\"Get the current weather in a given location\"\"\"\n",
    "    if \"adelaide\" in location.lower():\n",
    "        return json.dumps({\"location\": \"Adelaide\", \"temperature\": \"10\", \"unit\": unit})\n",
    "    elif \"san francisco\" in location.lower():\n",
    "        return json.dumps({\"location\": \"San Francisco\", \"temperature\": \"72\", \"unit\": unit})\n",
    "    elif \"paris\" in location.lower():\n",
    "        return json.dumps({\"location\": \"Paris\", \"temperature\": \"22\", \"unit\": unit})\n",
    "    else:\n",
    "        return json.dumps({\"location\": location, \"temperature\": \"unknown\"})\n",
    "\n",
    "# Example dummy function to play song requested by user\n",
    "def play_song(song):\n",
    "        \"\"\"Play a song\"\"\"\n",
    "        return json.dumps({\"Now playing\": song})\n",
    "    \n",
    "# Example dummy function to set volume\n",
    "def set_audio_volume(volume):\n",
    "        \"\"\"Set the volume\"\"\"\n",
    "        return json.dumps({\"Volume set to\": volume})"
   ]
  },
  {
   "cell_type": "code",
   "execution_count": 3,
   "metadata": {},
   "outputs": [],
   "source": [
    "function_json = {\n",
    "            \"type\": \"function\",\n",
    "                \"name\": \"get_current_weather\",\n",
    "                \"description\": \"Get the current weather in a given location\",\n",
    "                \"parameters\": {\n",
    "                    \"type\": \"object\",\n",
    "                    \"properties\": {\n",
    "                        \"location\": {\n",
    "                            \"type\": \"string\",\n",
    "                            \"description\": \"The city and state, e.g. San Francisco, CA\",\n",
    "                        },\n",
    "                        \"unit\": {\"type\": \"string\", \"enum\": [\"celsius\", \"fahrenheit\"]},\n",
    "                    },\n",
    "                    \"required\": [\"location\"],\n",
    "                },\n",
    "        }"
   ]
  },
  {
   "cell_type": "code",
   "execution_count": 4,
   "metadata": {},
   "outputs": [],
   "source": [
    "#TODO: come up with a way to check if tools list is valid. Maybe test?\n",
    "tools=[\n",
    "    {\"type\": \"code_interpreter\"},\n",
    "    {\"type\": \"retrieval\"},\n",
    "    {\n",
    "      \"type\": \"function\",\n",
    "    \"function\": {\n",
    "      \"name\": \"get_current_weather\",\n",
    "      \"description\": \"Get the weather in location\",\n",
    "      \"parameters\": {\n",
    "        \"type\": \"object\",\n",
    "        \"properties\": {\n",
    "          \"location\": {\"type\": \"string\", \"description\": \"The city and state e.g. San Francisco, CA\"},\n",
    "          \"unit\": {\"type\": \"string\", \"enum\": [\"c\", \"f\"]}\n",
    "        },\n",
    "        \"required\": [\"location\"]\n",
    "      }\n",
    "    }\n",
    "  },\n",
    "    {\n",
    "        \"type\": \"function\",\n",
    "        \"function\": {\n",
    "        \"name\": \"play_song\",\n",
    "        \"description\": \"Play a song\",\n",
    "        \"parameters\": {\n",
    "            \"type\": \"object\",\n",
    "            \"properties\": {\n",
    "            \"song\": {\"type\": \"string\", \"description\": \"The song to play\"}\n",
    "            },\n",
    "            \"required\": [\"song\"]\n",
    "            }\n",
    "        }\n",
    "    },\n",
    "    {\n",
    "        \"type\": \"function\",\n",
    "        \"function\": {\n",
    "        \"name\": \"set_audio_volume\",\n",
    "        \"description\": \"Set the volume\",\n",
    "        \"parameters\": {\n",
    "            \"type\": \"object\",\n",
    "            \"properties\": {\n",
    "            \"volume\": {\"type\": \"string\", \"description\": \"The volume to set\"}\n",
    "            },\n",
    "            \"required\": [\"volume\"]\n",
    "            }\n",
    "        }\n",
    "    }\n",
    "  ]"
   ]
  },
  {
   "cell_type": "code",
   "execution_count": 5,
   "metadata": {},
   "outputs": [],
   "source": [
    "client = OpenAI()"
   ]
  },
  {
   "cell_type": "code",
   "execution_count": 6,
   "metadata": {},
   "outputs": [],
   "source": [
    "# client = OpenAI()\n",
    "\n",
    "# assistant = client.beta.assistants.create(\n",
    "#     name=\"Car shauffeur 🚘\",\n",
    "#     instructions=\"You are a personal weather assistant. Answer questions briefly, in a sentence or less.\",\n",
    "#     model=\"gpt-4-1106-preview\",\n",
    "#     tools=tools,\n",
    "# )\n",
    "# show_json(assistant)"
   ]
  },
  {
   "cell_type": "markdown",
   "metadata": {},
   "source": [
    "### Helper functions"
   ]
  },
  {
   "cell_type": "code",
   "execution_count": 7,
   "metadata": {},
   "outputs": [],
   "source": [
    "import time\n",
    "\n",
    "#WEATHER_ASSISTANT_ID = assistant.id\n",
    "WEATHER_ASSISTANT_ID = \"asst_0qaT7bpHqUEaCJCLwZU3jX7Q\"\n",
    "\n",
    "def submit_message(assistant_id, thread, user_message):\n",
    "    client.beta.threads.messages.create(\n",
    "        thread_id=thread.id, role=\"user\", content=user_message\n",
    "    )\n",
    "    return client.beta.threads.runs.create(\n",
    "        thread_id=thread.id,\n",
    "        assistant_id=assistant_id,\n",
    "    )\n",
    "\n",
    "def create_thread_and_run(user_input):\n",
    "    thread = client.beta.threads.create()\n",
    "    run = submit_message(WEATHER_ASSISTANT_ID, thread, user_input)\n",
    "    return thread, run\n",
    "\n",
    "\n",
    "def get_response(thread):\n",
    "    return client.beta.threads.messages.list(thread_id=thread.id, order=\"asc\")\n",
    "\n",
    "\n",
    "def wait_on_run(run, thread):\n",
    "    while run.status == \"queued\" or run.status == \"in_progress\":\n",
    "        run = client.beta.threads.runs.retrieve(\n",
    "            thread_id=thread.id,\n",
    "            run_id=run.id,\n",
    "        )\n",
    "        time.sleep(0.5)\n",
    "    return run\n",
    "\n",
    "# Pretty printing helper\n",
    "def pretty_print(messages):\n",
    "    print(\"# Messages\")\n",
    "    for m in messages:\n",
    "        print(f\"{m.role}: {m.content[0].text.value}\")\n",
    "    print()"
   ]
  },
  {
   "cell_type": "code",
   "execution_count": 8,
   "metadata": {},
   "outputs": [],
   "source": [
    "# A modified version of wait_on_run\n",
    "def wait_on_run_modified(run, thread):\n",
    "    while run.status == \"queued\" or run.status == \"in_progress\":\n",
    "        run = client.beta.threads.runs.retrieve(\n",
    "            thread_id=thread.id,\n",
    "            run_id=run.id,\n",
    "        )\n",
    "        time.sleep(0.5)\n",
    "    return run"
   ]
  },
  {
   "cell_type": "code",
   "execution_count": 9,
   "metadata": {},
   "outputs": [
    {
     "data": {
      "text/plain": [
       "'requires_action'"
      ]
     },
     "execution_count": 9,
     "metadata": {},
     "output_type": "execute_result"
    }
   ],
   "source": [
    "thread, run = create_thread_and_run(\n",
    "    \"Play Hello and turn the volume to 60\"\n",
    ")\n",
    "run = wait_on_run(run, thread)\n",
    "run.status"
   ]
  },
  {
   "cell_type": "code",
   "execution_count": 10,
   "metadata": {},
   "outputs": [
    {
     "data": {
      "text/plain": [
       "{'id': 'run_GtRQG1EXkkqP1gGlk2R74Zp0',\n",
       " 'assistant_id': 'asst_0qaT7bpHqUEaCJCLwZU3jX7Q',\n",
       " 'cancelled_at': None,\n",
       " 'completed_at': None,\n",
       " 'created_at': 1703560542,\n",
       " 'expires_at': 1703561142,\n",
       " 'failed_at': None,\n",
       " 'file_ids': [],\n",
       " 'instructions': 'You are a personal weather assistant. Answer questions briefly, in a sentence or less.',\n",
       " 'last_error': None,\n",
       " 'metadata': {},\n",
       " 'model': 'gpt-4-1106-preview',\n",
       " 'object': 'thread.run',\n",
       " 'required_action': {'submit_tool_outputs': {'tool_calls': [{'id': 'call_piI6knhingt4tPjGUahWzUMs',\n",
       "     'function': {'arguments': '{\"song\": \"Hello\"}', 'name': 'play_song'},\n",
       "     'type': 'function'},\n",
       "    {'id': 'call_2onMtwGenjdMt5ITVFxsclPV',\n",
       "     'function': {'arguments': '{\"volume\": \"60\"}', 'name': 'set_audio_volume'},\n",
       "     'type': 'function'}]},\n",
       "  'type': 'submit_tool_outputs'},\n",
       " 'started_at': 1703560542,\n",
       " 'status': 'requires_action',\n",
       " 'thread_id': 'thread_urJmLpDdu0kYqZ06FyAmlDIK',\n",
       " 'tools': [{'type': 'code_interpreter'},\n",
       "  {'type': 'retrieval'},\n",
       "  {'function': {'name': 'get_current_weather',\n",
       "    'description': 'Get the weather in location',\n",
       "    'parameters': {'type': 'object',\n",
       "     'properties': {'location': {'type': 'string',\n",
       "       'description': 'The city and state e.g. San Francisco, CA'},\n",
       "      'unit': {'type': 'string', 'enum': ['c', 'f']}},\n",
       "     'required': ['location']}},\n",
       "   'type': 'function'},\n",
       "  {'function': {'name': 'play_song',\n",
       "    'description': 'Play a song',\n",
       "    'parameters': {'type': 'object',\n",
       "     'properties': {'song': {'type': 'string',\n",
       "       'description': 'The song to play'}},\n",
       "     'required': ['song']}},\n",
       "   'type': 'function'},\n",
       "  {'function': {'name': 'set_audio_volume',\n",
       "    'description': 'Set the volume',\n",
       "    'parameters': {'type': 'object',\n",
       "     'properties': {'volume': {'type': 'string',\n",
       "       'description': 'The volume to set'}},\n",
       "     'required': ['volume']}},\n",
       "   'type': 'function'}]}"
      ]
     },
     "metadata": {},
     "output_type": "display_data"
    }
   ],
   "source": [
    "show_json(run)"
   ]
  },
  {
   "cell_type": "code",
   "execution_count": 11,
   "metadata": {},
   "outputs": [
    {
     "name": "stdout",
     "output_type": "stream",
     "text": [
      "# Tool calls\n",
      "# Messages\n",
      "user: Play Hello and turn the volume to 60\n",
      "assistant: The song \"Hello\" is now playing and the volume has been set to 60.\n",
      "\n",
      "# Tool outputs\n",
      "[{'tool_call_id': 'call_piI6knhingt4tPjGUahWzUMs', 'output': '\"{\\\\\"Now playing\\\\\": \\\\\"Hello\\\\\"}\"'}, {'tool_call_id': 'call_2onMtwGenjdMt5ITVFxsclPV', 'output': '\"{\\\\\"Volume set to\\\\\": \\\\\"60\\\\\"}\"'}]\n"
     ]
    }
   ],
   "source": [
    "tool_calls = run.required_action.submit_tool_outputs.tool_calls\n",
    "print(\"# Tool calls\")\n",
    "# print(tool_calls)\n",
    "tool_outputs = []\n",
    "# Loop over tool calls\n",
    "for tool_call in tool_calls:\n",
    "    # tool_outputs = []\n",
    "    # Print tool_call id\n",
    "    TOOL_ID = tool_call.id\n",
    "    # print(f\"Tool call id: {TOOL_ID}\")\n",
    "    # Get name of the tool\n",
    "    tool_name = tool_call.function.name\n",
    "    # print(f\"Tool: {tool_name}\")\n",
    "    # Get the parameters of the tool call\n",
    "    tool_args = json.loads(tool_call.function.arguments)\n",
    "    # Print the tool name and arguments\n",
    "    # print(f\"Arguments: {tool_args}\")\n",
    "    # Step 3: call the function\n",
    "    # Note: the JSON response may not always be valid; be sure to handle errors\n",
    "    available_functions = {\n",
    "        \"get_current_weather\": get_current_weather,\n",
    "        \"play_song\": play_song,\n",
    "        \"set_audio_volume\": set_audio_volume,} \n",
    "    \n",
    "    # Function to call\n",
    "    function_to_call = available_functions[tool_name]\n",
    "    response = function_to_call(**tool_args)\n",
    "    # Add the tool output to the list of tool outputs\n",
    "    tool_outputs.append(\n",
    "        {\n",
    "            \"tool_call_id\": TOOL_ID,\n",
    "            \"output\": json.dumps(response),\n",
    "        }\n",
    "    )\n",
    "\n",
    "\n",
    "if tool_outputs:\n",
    "    # Submit the response to the run\n",
    "    run = client.beta.threads.runs.submit_tool_outputs(\n",
    "            thread_id=thread.id,\n",
    "            run_id=run.id,\n",
    "            tool_outputs=tool_outputs,\n",
    "        )\n",
    "    run = wait_on_run(run, thread)\n",
    "    pretty_print(get_response(thread))\n",
    "else:\n",
    "    print(\"No tool outputs to submit\")\n",
    "\n",
    "\n",
    " # Verify tool outputs list is correct\n",
    "print(\"# Tool outputs\")\n",
    "print(tool_outputs)\n",
    "\n"
   ]
  },
  {
   "cell_type": "code",
   "execution_count": null,
   "metadata": {},
   "outputs": [],
   "source": [
    "\n",
    "# For every tool output, submit it to the run in a parallel thread\n",
    "#TODO: Use an async version of .submit tool outputs"
   ]
  },
  {
   "cell_type": "code",
   "execution_count": null,
   "metadata": {},
   "outputs": [],
   "source": [
    "# Extract single tool call\n",
    "tool_call = run.required_action.submit_tool_outputs.tool_calls[0]\n",
    "name = tool_call.function.name\n",
    "arguments = json.loads(tool_call.function.arguments)\n",
    "\n",
    "print(\"Function Name:\", name)\n",
    "print(\"Function Arguments:\")\n",
    "arguments"
   ]
  },
  {
   "cell_type": "markdown",
   "metadata": {},
   "source": [
    "Now let's actually call our `get_current_weather` function with the arguments provided by the Assistant:"
   ]
  },
  {
   "cell_type": "code",
   "execution_count": null,
   "metadata": {},
   "outputs": [],
   "source": [
    "response = get_current_weather(arguments[\"location\"])\n",
    "print(\"Response:\", response)"
   ]
  },
  {
   "cell_type": "markdown",
   "metadata": {},
   "source": [
    "Great! (Remember these responses are the one's we mocked earlier. In reality, we'd be getting input from the back from this function call.)\n",
    "\n",
    "Now that we have our responses, let's submit them back to the Assistant. We'll need the `tool_call` ID, found in the `tool_call` we parsed out earlier. We'll also need to encode our `list`of responses into a `str`.\n"
   ]
  },
  {
   "cell_type": "code",
   "execution_count": null,
   "metadata": {},
   "outputs": [],
   "source": [
    "run = client.beta.threads.runs.submit_tool_outputs(\n",
    "    thread_id=thread.id,\n",
    "    run_id=run.id,\n",
    "    tool_outputs=[\n",
    "        {\n",
    "            \"tool_call_id\": tool_call.id,\n",
    "            \"output\": json.dumps(response),\n",
    "        }\n",
    "    ],\n",
    ")\n",
    "show_json(run)"
   ]
  },
  {
   "cell_type": "code",
   "execution_count": null,
   "metadata": {},
   "outputs": [],
   "source": [
    "run = wait_on_run(run, thread)\n",
    "pretty_print(get_response(thread))"
   ]
  },
  {
   "cell_type": "markdown",
   "metadata": {},
   "source": [
    "## Function to bring everything together"
   ]
  },
  {
   "cell_type": "code",
   "execution_count": null,
   "metadata": {},
   "outputs": [],
   "source": [
    "def run_conversation(user_input):\n",
    "    # create and run thread with user input\n",
    "    thread, run = create_thread_and_run(user_input)\n",
    "    run = wait_on_run(run, thread)\n",
    "\n",
    "    # If run status requires action, extract tool call and run it, else print response\n",
    "    if run.status == \"requires_action\":\n",
    "        tool_call = run.required_action.submit_tool_outputs.tool_calls[0]\n",
    "        tool_name = tool_call.function.name\n",
    "        print(\"Function Name:\", tool_name)\n",
    "        arguments = json.loads(tool_call.function.arguments)\n",
    "        response = get_current_weather(arguments[\"location\"])\n",
    "        run = client.beta.threads.runs.submit_tool_outputs(\n",
    "            thread_id=thread.id,\n",
    "            run_id=run.id,\n",
    "            tool_outputs=[\n",
    "                {\n",
    "                    \"tool_call_id\": tool_call.id,\n",
    "                    \"output\": json.dumps(response),\n",
    "                }\n",
    "            ],\n",
    "        )\n",
    "        run = wait_on_run(run, thread)\n",
    "        pretty_print(get_response(thread))\n",
    "    else:\n",
    "        print(\"No action required.\")\n",
    "        pretty_print(get_response(thread))"
   ]
  },
  {
   "cell_type": "code",
   "execution_count": null,
   "metadata": {},
   "outputs": [],
   "source": [
    "run_conversation(\"What is a Large Language Model in AI?\")"
   ]
  },
  {
   "cell_type": "code",
   "execution_count": null,
   "metadata": {},
   "outputs": [],
   "source": [
    "run_conversation(\"What's the weather in Adelaide?\")"
   ]
  },
  {
   "cell_type": "code",
   "execution_count": null,
   "metadata": {},
   "outputs": [],
   "source": []
  }
 ],
 "metadata": {
  "kernelspec": {
   "display_name": ".venv",
   "language": "python",
   "name": "python3"
  },
  "language_info": {
   "codemirror_mode": {
    "name": "ipython",
    "version": 3
   },
   "file_extension": ".py",
   "mimetype": "text/x-python",
   "name": "python",
   "nbconvert_exporter": "python",
   "pygments_lexer": "ipython3",
   "version": "3.12.0"
  }
 },
 "nbformat": 4,
 "nbformat_minor": 2
}
