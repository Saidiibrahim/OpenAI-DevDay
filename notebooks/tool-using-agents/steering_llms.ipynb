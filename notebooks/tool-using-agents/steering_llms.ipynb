{
 "cells": [
  {
   "cell_type": "code",
   "execution_count": null,
   "metadata": {},
   "outputs": [],
   "source": [
    "import getpass\n",
    "import os\n",
    "\n",
    "\n",
    "def _set_if_undefined(var: str):\n",
    "    if not os.environ.get(var):\n",
    "        os.environ[var] = getpass(f\"Please provide your {var}\")\n",
    "\n",
    "\n",
    "_set_if_undefined(\"OPENAI_API_KEY\")\n",
    "# _set_if_undefined(\"LANGCHAIN_API_KEY\")\n",
    "_set_if_undefined(\"TAVILY_API_KEY\")\n",
    "\n",
    "# Optional, add tracing in LangSmith\n",
    "# os.environ[\"LANGCHAIN_TRACING_V2\"] = \"true\"\n",
    "# os.environ[\"LANGCHAIN_PROJECT\"] = \"🚀Custom_OpenAI_Agent\"\n",
    "\n"
   ]
  },
  {
   "cell_type": "code",
   "execution_count": null,
   "metadata": {},
   "outputs": [],
   "source": [
    "from dataclasses import dataclass\n",
    "\n",
    "@dataclass\n",
    "class Person:\n",
    "\tname: str\n",
    "\tage: int\n",
    "\n",
    "Person(name=\"Sam\", age=\"10\")"
   ]
  },
  {
   "cell_type": "code",
   "execution_count": null,
   "metadata": {},
   "outputs": [],
   "source": [
    "Person(name=\"Sam\", age=\"10\").age + 1"
   ]
  },
  {
   "cell_type": "code",
   "execution_count": null,
   "metadata": {},
   "outputs": [],
   "source": [
    "from pydantic import BaseModel\n",
    "\n",
    "class Person(BaseModel):\n",
    "\tname: str\n",
    "\tage: int\n",
    "\n",
    "Person(name=\"Sam\", age=\"10\")"
   ]
  },
  {
   "cell_type": "code",
   "execution_count": null,
   "metadata": {},
   "outputs": [],
   "source": [
    "Person(name=\"Sam\", age=\"10\").age + 1"
   ]
  },
  {
   "cell_type": "code",
   "execution_count": null,
   "metadata": {},
   "outputs": [],
   "source": [
    "from pydantic import BaseModel\n",
    "from openai import OpenAI\n",
    "\n",
    "client = OpenAI()\n",
    "\n",
    "\n",
    "class PythonPackage(BaseModel):\n",
    "    name: str\n",
    "    author: str\n",
    "\n",
    "resp = client.chat.completions.create(\n",
    "    model=\"gpt-4o\",\n",
    "    messages=[\n",
    "        {\n",
    "            \"role\": \"user\",\n",
    "            \"content\": \"Return the `name`, and `author` of pydantic, in a json object.\"\n",
    "        },\n",
    "    ]\n",
    ")\n",
    "\n",
    "PythonPackage.model_validate_json(resp.choices[0].message.content)"
   ]
  },
  {
   "cell_type": "code",
   "execution_count": null,
   "metadata": {},
   "outputs": [],
   "source": [
    "import json\n",
    "\n",
    "resp = client.chat.completions.create(\n",
    "\tmodel=\"gpt-4o\",\n",
    "\tmessages=[\n",
    "\t\t{\n",
    "\t\t\t\"role\": \"user\",\n",
    "\t\t\t\"content\": \"Pydantic and FastAPI?\",\n",
    "\t\t},\n",
    "\t],\n",
    "\ttools=[\n",
    "\t\t{\n",
    "\t\t\t\"type\": \"function\",\n",
    "\t\t\t\"function\": {\n",
    "\t\t\t\t\"name\": \"Requirements\",\n",
    "\t\t\t\t\"description\": \"A list of packages and their first authors.\",\n",
    "\t\t\t\t\"parameters\": {\n",
    "\t\t\t\t\t\"$defs\": {\n",
    "\t\t\t\t\t\t\"Package\": {\n",
    "\t\t\t\t\t\t\t\"properties\": {\n",
    "\t\t\t\t\t\t\t\t\"name\": {\"title\": \"Name\", \"type\": \"string\"},\n",
    "\t\t\t\t\t\t\t\t\"author\": {\"title\": \"Author\", \"type\": \"string\"},\n",
    "\t\t\t\t\t\t\t},\n",
    "\t\t\t\t\t\t\t\"required\": [\"name\", \"author\"],\n",
    "\t\t\t\t\t\t\t\"title\": \"Package\",\n",
    "\t\t\t\t\t\t\t\"type\": \"object\",\n",
    "\t\t\t\t\t\t}\n",
    "\t\t\t\t\t},\n",
    "\t\t\t\t\t\"properties\": {\n",
    "\t\t\t\t\t\t\"packages\": {\n",
    "\t\t\t\t\t\t\t\"items\": {\"$ref\": \"#/$defs/Package\"},\n",
    "\t\t\t\t\t\t\t\"title\": \"Packages\",\n",
    "\t\t\t\t\t\t\t\"type\": \"array\",\n",
    "\t\t\t\t\t\t}\n",
    "\t\t\t\t\t},\n",
    "\t\t\t\t\t\"required\": [\"packages\"],\n",
    "\t\t\t\t\t\"title\": \"Packages\",\n",
    "\t\t\t\t\t\"type\": \"object\",\n",
    "\t\t\t\t},\n",
    "\t\t\t},\n",
    "\t\t}\n",
    "\t],\n",
    "\ttool_choice={\n",
    "\t\t\"type\": \"function\",\n",
    "\t\t\"function\": {\"name\": \"Requirements\"},\n",
    "\t},\n",
    ")\n",
    "\n",
    "resp = json.loads(resp.choices[0].message.tool_calls[0].function.arguments)\n"
   ]
  },
  {
   "cell_type": "code",
   "execution_count": null,
   "metadata": {},
   "outputs": [],
   "source": [
    "resp"
   ]
  },
  {
   "cell_type": "code",
   "execution_count": 1,
   "metadata": {},
   "outputs": [],
   "source": [
    "from typing import List\n",
    "from pydantic import BaseModel\n",
    "from openai import OpenAI\n",
    "\n",
    "client = OpenAI()\n",
    "\n",
    "\n",
    "class PythonPackage(BaseModel):\n",
    "    name: str\n",
    "    author: str\n",
    "\n",
    "\n",
    "class Packages(BaseModel):\n",
    "    packages: List[PythonPackage]\n",
    "\n",
    "\n",
    "resp = client.chat.completions.create(\n",
    "    model=\"gpt-4o\",\n",
    "    messages=[\n",
    "        {\n",
    "            \"role\": \"user\",\n",
    "            \"content\": \"Pydantic and FastAPI?\",\n",
    "        },\n",
    "    ],\n",
    "    tools=[\n",
    "        {\n",
    "            \"type\": \"function\",\n",
    "            \"function\": {\n",
    "                \"name\": \"Requirements\",\n",
    "                \"description\": \"A list of packages and their first authors.\",\n",
    "                \"parameters\": Packages.model_json_schema(),\n",
    "            },\n",
    "        }\n",
    "    ],\n",
    "    tool_choice={\n",
    "        \"type\": \"function\",\n",
    "        \"function\": {\"name\": \"Requirements\"},\n",
    "    },\n",
    ")\n",
    "\n",
    "# Packages.model_validate_json(\n",
    "#     resp.choices[0].message.tool_calls[0].function.arguments\n",
    "# )\n"
   ]
  },
  {
   "cell_type": "code",
   "execution_count": 2,
   "metadata": {},
   "outputs": [
    {
     "data": {
      "text/plain": [
       "ChatCompletion(id='chatcmpl-9g89PZQ9EQlzm6xlRyUn8cmbeHZXz', choices=[Choice(finish_reason='stop', index=0, logprobs=None, message=ChatCompletionMessage(content=None, role='assistant', function_call=None, tool_calls=[ChatCompletionMessageToolCall(id='call_DwXYaHovdiQNvcyP1QV4ABWA', function=Function(arguments='{\"packages\":[{\"name\":\"Pydantic\"},{\"name\":\"FastAPI\"}]}', name='Requirements'), type='function')]))], created=1719828135, model='gpt-4o-2024-05-13', object='chat.completion', system_fingerprint='fp_4008e3b719', usage=CompletionUsage(completion_tokens=16, prompt_tokens=86, total_tokens=102))"
      ]
     },
     "execution_count": 2,
     "metadata": {},
     "output_type": "execute_result"
    }
   ],
   "source": [
    "resp"
   ]
  },
  {
   "cell_type": "code",
   "execution_count": null,
   "metadata": {},
   "outputs": [],
   "source": []
  }
 ],
 "metadata": {
  "kernelspec": {
   "display_name": ".venv",
   "language": "python",
   "name": "python3"
  },
  "language_info": {
   "codemirror_mode": {
    "name": "ipython",
    "version": 3
   },
   "file_extension": ".py",
   "mimetype": "text/x-python",
   "name": "python",
   "nbconvert_exporter": "python",
   "pygments_lexer": "ipython3",
   "version": "3.12.3"
  }
 },
 "nbformat": 4,
 "nbformat_minor": 2
}
