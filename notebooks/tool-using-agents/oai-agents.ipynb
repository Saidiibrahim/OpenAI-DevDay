{
 "cells": [
  {
   "cell_type": "markdown",
   "metadata": {},
   "source": [
    "## Imports"
   ]
  },
  {
   "cell_type": "code",
   "execution_count": 1,
   "metadata": {},
   "outputs": [],
   "source": [
    "from openai import AsyncOpenAI\n",
    "from langsmith.run_helpers import traceable\n",
    "import os\n",
    "import asyncio\n",
    "import json"
   ]
  },
  {
   "cell_type": "code",
   "execution_count": 2,
   "metadata": {},
   "outputs": [],
   "source": [
    "client = AsyncOpenAI()"
   ]
  },
  {
   "cell_type": "markdown",
   "metadata": {},
   "source": [
    "## Tools"
   ]
  },
  {
   "cell_type": "code",
   "execution_count": 41,
   "metadata": {},
   "outputs": [],
   "source": [
    "import requests\n",
    "\n",
    "dummy_location_data = {\n",
    "        \"ip\": \"120.20.28.58\",\n",
    "        \"network\": \"120.20.16.0/20\",\n",
    "        \"version\": \"IPv4\",\n",
    "        \"city\": \"Adelaide\",\n",
    "        \"region\": \"South Australia\",\n",
    "        \"region_code\": \"SA\",\n",
    "        \"country\": \"AU\",\n",
    "        \"country_name\": \"Australia\",\n",
    "        \"country_code\": \"AU\",\n",
    "        \"country_code_iso3\": \"AUS\",\n",
    "        \"country_capital\": \"Canberra\",\n",
    "        \"country_tld\": \".au\",\n",
    "        \"continent_code\": \"OC\",\n",
    "        \"in_eu\": False,\n",
    "        \"postal\": \"5008\",\n",
    "        \"latitude\": -34.8966,\n",
    "        \"longitude\": 138.573,\n",
    "        \"timezone\": \"Australia/Adelaide\",\n",
    "        \"utc_offset\": \"+0930\",\n",
    "        \"country_calling_code\": \"+61\",\n",
    "        \"currency\": \"AUD\",\n",
    "        \"currency_name\": \"Dollar\",\n",
    "        \"languages\": \"en-AU\",\n",
    "        \"country_area\": 7686850,\n",
    "        \"country_population\": 24992369,\n",
    "        \"asn\": \"AS133612\",\n",
    "        \"org\": \"Vodafone Australia Pty Ltd\"\n",
    "    }\n",
    "\n",
    "dummy_geolocation = {\n",
    "    \"latitude\": -34.8966,\n",
    "    \"longitude\": 138.573,\n",
    "}\n",
    "\n",
    "def getLocation():\n",
    "    # response = requests.get(\"https://ipapi.co/json/\")\n",
    "    location_data = dummy_location_data\n",
    "    return location_data\n",
    "\n",
    "def getCurrentWeather(latitude = dummy_geolocation[\"latitude\"], longitude = dummy_geolocation[\"longitude\"]):\n",
    "    url = f\"https://api.open-meteo.com/v1/forecast?latitude={latitude}&longitude={longitude}&hourly=apparent_temperature\"\n",
    "    response = requests.get(url)\n",
    "    weather_data = response.json()\n",
    "    return weather_data"
   ]
  },
  {
   "cell_type": "code",
   "execution_count": 42,
   "metadata": {},
   "outputs": [
    {
     "name": "stdout",
     "output_type": "stream",
     "text": [
      "{'ip': '120.20.28.58', 'network': '120.20.16.0/20', 'version': 'IPv4', 'city': 'Adelaide', 'region': 'South Australia', 'region_code': 'SA', 'country': 'AU', 'country_name': 'Australia', 'country_code': 'AU', 'country_code_iso3': 'AUS', 'country_capital': 'Canberra', 'country_tld': '.au', 'continent_code': 'OC', 'in_eu': False, 'postal': '5008', 'latitude': -34.8966, 'longitude': 138.573, 'timezone': 'Australia/Adelaide', 'utc_offset': '+0930', 'country_calling_code': '+61', 'currency': 'AUD', 'currency_name': 'Dollar', 'languages': 'en-AU', 'country_area': 7686850, 'country_population': 24992369, 'asn': 'AS133612', 'org': 'Vodafone Australia Pty Ltd'}\n"
     ]
    }
   ],
   "source": [
    "# Test the location data function\n",
    "print(getLocation())\n",
    "\n"
   ]
  },
  {
   "cell_type": "code",
   "execution_count": 43,
   "metadata": {},
   "outputs": [
    {
     "name": "stdout",
     "output_type": "stream",
     "text": [
      "{'latitude': -34.875, 'longitude': 138.5, 'generationtime_ms': 0.07903575897216797, 'utc_offset_seconds': 0, 'timezone': 'GMT', 'timezone_abbreviation': 'GMT', 'elevation': 15.0, 'hourly_units': {'time': 'iso8601', 'apparent_temperature': '°C'}, 'hourly': {'time': ['2024-05-06T00:00', '2024-05-06T01:00', '2024-05-06T02:00', '2024-05-06T03:00', '2024-05-06T04:00', '2024-05-06T05:00', '2024-05-06T06:00', '2024-05-06T07:00', '2024-05-06T08:00', '2024-05-06T09:00', '2024-05-06T10:00', '2024-05-06T11:00', '2024-05-06T12:00', '2024-05-06T13:00', '2024-05-06T14:00', '2024-05-06T15:00', '2024-05-06T16:00', '2024-05-06T17:00', '2024-05-06T18:00', '2024-05-06T19:00', '2024-05-06T20:00', '2024-05-06T21:00', '2024-05-06T22:00', '2024-05-06T23:00', '2024-05-07T00:00', '2024-05-07T01:00', '2024-05-07T02:00', '2024-05-07T03:00', '2024-05-07T04:00', '2024-05-07T05:00', '2024-05-07T06:00', '2024-05-07T07:00', '2024-05-07T08:00', '2024-05-07T09:00', '2024-05-07T10:00', '2024-05-07T11:00', '2024-05-07T12:00', '2024-05-07T13:00', '2024-05-07T14:00', '2024-05-07T15:00', '2024-05-07T16:00', '2024-05-07T17:00', '2024-05-07T18:00', '2024-05-07T19:00', '2024-05-07T20:00', '2024-05-07T21:00', '2024-05-07T22:00', '2024-05-07T23:00', '2024-05-08T00:00', '2024-05-08T01:00', '2024-05-08T02:00', '2024-05-08T03:00', '2024-05-08T04:00', '2024-05-08T05:00', '2024-05-08T06:00', '2024-05-08T07:00', '2024-05-08T08:00', '2024-05-08T09:00', '2024-05-08T10:00', '2024-05-08T11:00', '2024-05-08T12:00', '2024-05-08T13:00', '2024-05-08T14:00', '2024-05-08T15:00', '2024-05-08T16:00', '2024-05-08T17:00', '2024-05-08T18:00', '2024-05-08T19:00', '2024-05-08T20:00', '2024-05-08T21:00', '2024-05-08T22:00', '2024-05-08T23:00', '2024-05-09T00:00', '2024-05-09T01:00', '2024-05-09T02:00', '2024-05-09T03:00', '2024-05-09T04:00', '2024-05-09T05:00', '2024-05-09T06:00', '2024-05-09T07:00', '2024-05-09T08:00', '2024-05-09T09:00', '2024-05-09T10:00', '2024-05-09T11:00', '2024-05-09T12:00', '2024-05-09T13:00', '2024-05-09T14:00', '2024-05-09T15:00', '2024-05-09T16:00', '2024-05-09T17:00', '2024-05-09T18:00', '2024-05-09T19:00', '2024-05-09T20:00', '2024-05-09T21:00', '2024-05-09T22:00', '2024-05-09T23:00', '2024-05-10T00:00', '2024-05-10T01:00', '2024-05-10T02:00', '2024-05-10T03:00', '2024-05-10T04:00', '2024-05-10T05:00', '2024-05-10T06:00', '2024-05-10T07:00', '2024-05-10T08:00', '2024-05-10T09:00', '2024-05-10T10:00', '2024-05-10T11:00', '2024-05-10T12:00', '2024-05-10T13:00', '2024-05-10T14:00', '2024-05-10T15:00', '2024-05-10T16:00', '2024-05-10T17:00', '2024-05-10T18:00', '2024-05-10T19:00', '2024-05-10T20:00', '2024-05-10T21:00', '2024-05-10T22:00', '2024-05-10T23:00', '2024-05-11T00:00', '2024-05-11T01:00', '2024-05-11T02:00', '2024-05-11T03:00', '2024-05-11T04:00', '2024-05-11T05:00', '2024-05-11T06:00', '2024-05-11T07:00', '2024-05-11T08:00', '2024-05-11T09:00', '2024-05-11T10:00', '2024-05-11T11:00', '2024-05-11T12:00', '2024-05-11T13:00', '2024-05-11T14:00', '2024-05-11T15:00', '2024-05-11T16:00', '2024-05-11T17:00', '2024-05-11T18:00', '2024-05-11T19:00', '2024-05-11T20:00', '2024-05-11T21:00', '2024-05-11T22:00', '2024-05-11T23:00', '2024-05-12T00:00', '2024-05-12T01:00', '2024-05-12T02:00', '2024-05-12T03:00', '2024-05-12T04:00', '2024-05-12T05:00', '2024-05-12T06:00', '2024-05-12T07:00', '2024-05-12T08:00', '2024-05-12T09:00', '2024-05-12T10:00', '2024-05-12T11:00', '2024-05-12T12:00', '2024-05-12T13:00', '2024-05-12T14:00', '2024-05-12T15:00', '2024-05-12T16:00', '2024-05-12T17:00', '2024-05-12T18:00', '2024-05-12T19:00', '2024-05-12T20:00', '2024-05-12T21:00', '2024-05-12T22:00', '2024-05-12T23:00'], 'apparent_temperature': [15.5, 17.0, 18.3, 19.1, 19.3, 19.3, 19.0, 17.8, 16.2, 15.4, 14.7, 14.2, 13.9, 13.5, 13.2, 12.9, 12.5, 12.3, 12.1, 11.9, 11.4, 11.2, 11.1, 13.3, 16.5, 19.1, 20.0, 20.0, 18.8, 19.0, 19.3, 19.5, 18.9, 16.9, 15.7, 14.9, 14.4, 13.9, 13.7, 13.3, 13.1, 12.9, 12.6, 12.3, 12.1, 11.9, 11.9, 13.7, 16.1, 17.5, 18.4, 19.0, 19.1, 19.1, 18.9, 18.5, 17.7, 16.3, 15.1, 14.5, 13.9, 13.5, 13.5, 13.4, 13.4, 13.4, 13.2, 13.1, 13.0, 12.7, 12.4, 13.9, 16.1, 17.8, 19.2, 19.8, 19.7, 19.2, 18.6, 17.6, 16.4, 15.1, 14.1, 13.3, 12.7, 12.3, 12.2, 12.1, 12.1, 12.1, 12.0, 11.7, 11.3, 11.6, 12.9, 14.7, 16.4, 17.7, 18.8, 19.5, 19.5, 19.3, 19.0, 18.4, 17.4, 16.4, 15.6, 14.9, 14.4, 14.2, 14.2, 14.2, 14.0, 13.6, 13.2, 12.6, 12.0, 12.0, 13.1, 14.8, 16.5, 17.5, 18.1, 18.8, 18.7, 18.4, 18.1, 17.9, 17.7, 17.0, 16.1, 15.1, 13.9, 13.1, 12.7, 12.2, 11.6, 10.9, 10.3, 9.5, 9.0, 9.4, 11.0, 13.5, 15.5, 16.9, 17.9, 18.7, 18.9, 18.6, 18.2, 17.8, 17.1, 16.2, 15.4, 14.7, 14.3, 14.0, 13.8, 13.6, 13.4, 13.1, 12.9, 12.5, 12.2, 12.3, 13.1, 14.4]}}\n"
     ]
    }
   ],
   "source": [
    "# test get_current_weather\n",
    "print(getCurrentWeather())\n",
    "\n"
   ]
  },
  {
   "cell_type": "code",
   "execution_count": 44,
   "metadata": {},
   "outputs": [],
   "source": [
    "tools = [\n",
    "  {\n",
    "    \"type\": \"function\",\n",
    "    \"function\": {\n",
    "      \"name\": \"getCurrentWeather\",\n",
    "      \"description\": \"Get the current weather in a given location\",\n",
    "      \"parameters\": {\n",
    "        \"type\": \"object\",\n",
    "        \"properties\": {\n",
    "          \"latitude\": {\n",
    "            \"type\": \"string\",\n",
    "          },\n",
    "          \"longitude\": {\n",
    "            \"type\": \"string\",\n",
    "          },\n",
    "        },\n",
    "        \"required\": [\"longitude\", \"latitude\"],\n",
    "      },\n",
    "    }\n",
    "  },\n",
    "  {\n",
    "    \"type\": \"function\",\n",
    "    \"function\": {\n",
    "      \"name\": \"getLocation\",\n",
    "      \"description\": \"Get the user's location based on their IP address\",\n",
    "      \"parameters\": {\n",
    "        \"type\": \"object\",\n",
    "        \"properties\": {},\n",
    "      },\n",
    "    }\n",
    "  },\n",
    "]"
   ]
  },
  {
   "cell_type": "code",
   "execution_count": 45,
   "metadata": {},
   "outputs": [],
   "source": [
    "availableTools = {\n",
    "    \"getCurrentWeather\": getCurrentWeather,\n",
    "    \"getLocation\": getLocation\n",
    "}\n",
    "\n"
   ]
  },
  {
   "cell_type": "markdown",
   "metadata": {},
   "source": [
    "## Agent setup"
   ]
  },
  {
   "cell_type": "code",
   "execution_count": 28,
   "metadata": {},
   "outputs": [],
   "source": [
    "messages = [\n",
    "    {\n",
    "      \"role\": \"system\",\n",
    "      \"content\": \"You are a helpful assistant. Only use the functions you have been provided with.\",\n",
    "    },\n",
    "    ## Add other messages as needed\n",
    "  ]\n",
    "\n"
   ]
  },
  {
   "cell_type": "code",
   "execution_count": 29,
   "metadata": {},
   "outputs": [],
   "source": [
    "dummy_agent = await client.chat.completions.create(\n",
    "    model=\"gpt-4\",\n",
    "    messages=messages,\n",
    "    tools=tools)"
   ]
  },
  {
   "cell_type": "code",
   "execution_count": 30,
   "metadata": {},
   "outputs": [
    {
     "name": "stdout",
     "output_type": "stream",
     "text": [
      "ChatCompletion(id='chatcmpl-9LoalVoA7gBgfBw0uxT1Hk0GdGoqH', choices=[Choice(finish_reason='tool_calls', index=0, logprobs=None, message=ChatCompletionMessage(content=None, role='assistant', function_call=None, tool_calls=[ChatCompletionMessageToolCall(id='call_RHExRvRK3EsCpsEJ5n8yAcBB', function=Function(arguments='{}', name='getLocation'), type='function')]))], created=1714986391, model='gpt-4-0613', object='chat.completion', system_fingerprint=None, usage=CompletionUsage(completion_tokens=6, prompt_tokens=83, total_tokens=89))\n"
     ]
    }
   ],
   "source": [
    "print(dummy_agent)"
   ]
  },
  {
   "cell_type": "code",
   "execution_count": 31,
   "metadata": {},
   "outputs": [
    {
     "name": "stdout",
     "output_type": "stream",
     "text": [
      "Finish reason: tool_calls\n",
      "[ChatCompletionMessageToolCall(id='call_RHExRvRK3EsCpsEJ5n8yAcBB', function=Function(arguments='{}', name='getLocation'), type='function')]\n"
     ]
    }
   ],
   "source": [
    "# Extract the finish reason and message from the dummy agent\n",
    "finish_reason = dummy_agent.choices[0].finish_reason\n",
    "tool_calls_in_message = dummy_agent.choices[0].message.tool_calls\n",
    "print(f\"Finish reason: {finish_reason}\")\n",
    "print(tool_calls_in_message)\n",
    "\n"
   ]
  },
  {
   "cell_type": "code",
   "execution_count": 32,
   "metadata": {},
   "outputs": [
    {
     "name": "stdout",
     "output_type": "stream",
     "text": [
      "tool_calls\n"
     ]
    }
   ],
   "source": [
    "if finish_reason == \"tool_calls\":\n",
    "    print(\"tool_calls\")\n",
    "\n"
   ]
  },
  {
   "cell_type": "code",
   "execution_count": 46,
   "metadata": {},
   "outputs": [
    {
     "name": "stdout",
     "output_type": "stream",
     "text": [
      "Function name: getLocation\n",
      "Function arguments: {}\n",
      "<function getLocation at 0x10ea9eac0>\n",
      "{'ip': '120.20.28.58', 'network': '120.20.16.0/20', 'version': 'IPv4', 'city': 'Adelaide', 'region': 'South Australia', 'region_code': 'SA', 'country': 'AU', 'country_name': 'Australia', 'country_code': 'AU', 'country_code_iso3': 'AUS', 'country_capital': 'Canberra', 'country_tld': '.au', 'continent_code': 'OC', 'in_eu': False, 'postal': '5008', 'latitude': -34.8966, 'longitude': 138.573, 'timezone': 'Australia/Adelaide', 'utc_offset': '+0930', 'country_calling_code': '+61', 'currency': 'AUD', 'currency_name': 'Dollar', 'languages': 'en-AU', 'country_area': 7686850, 'country_population': 24992369, 'asn': 'AS133612', 'org': 'Vodafone Australia Pty Ltd'}\n"
     ]
    }
   ],
   "source": [
    "# Sudo code to check if both the finish reason and tool_calls are present in the message\n",
    "if finish_reason == \"tool_calls\" and tool_calls_in_message:\n",
    "    function_name = tool_calls_in_message[0].function.name\n",
    "    print(f\"Function name: {function_name}\")\n",
    "    function_args = json.loads(tool_calls_in_message[0].function.arguments)\n",
    "    print(f\"Function arguments: {function_args}\")\n",
    "    function_to_call = availableTools[function_name]\n",
    "    print(function_to_call)\n",
    "    response = function_to_call(**function_args)\n",
    "    print(response)\n",
    "\n"
   ]
  },
  {
   "cell_type": "code",
   "execution_count": 47,
   "metadata": {},
   "outputs": [
    {
     "data": {
      "text/plain": [
       "'getLocation'"
      ]
     },
     "execution_count": 47,
     "metadata": {},
     "output_type": "execute_result"
    }
   ],
   "source": [
    "dummy_agent.choices[0].message.tool_calls[0].function.name"
   ]
  },
  {
   "cell_type": "code",
   "execution_count": 48,
   "metadata": {},
   "outputs": [],
   "source": [
    "async def agent(userInput: str):\n",
    "    print(\"Starting agent function...\")\n",
    "    messages.append({\n",
    "        \"role\": \"user\",\n",
    "        \"content\": userInput,\n",
    "    })\n",
    "    for i in range(5):\n",
    "        print(f\"Iteration {i+1}\")\n",
    "        response = await client.chat.completions.create(\n",
    "            model=\"gpt-4\",\n",
    "            messages=messages,\n",
    "            tools=tools,\n",
    "        )\n",
    "        print(response)\n",
    "        finish_reason = response.choices[0].finish_reason\n",
    "        print(f\"Finish reason: {finish_reason}\")\n",
    "        tool_calls_in_message = response.choices[0].message.tool_calls\n",
    "        print(tool_calls_in_message)\n",
    "\n",
    "        if finish_reason == \"tool_calls\" and tool_calls_in_message:\n",
    "            function_name = tool_calls_in_message[0].function.name\n",
    "            print(f\"Function name: {function_name}\")\n",
    "            function_args = json.loads(tool_calls_in_message[0].function.arguments)\n",
    "            print(f\"Function arguments: {function_args}\")\n",
    "            function_to_call = availableTools[function_name]\n",
    "            try:\n",
    "                function_response = function_to_call(**function_args)\n",
    "                print(f\"Function {function_name} returned: {function_response}\")\n",
    "                messages.append({\n",
    "                    \"role\": \"function\",\n",
    "                    \"name\": function_name,\n",
    "                    \"content\": f\"The result of the last function was this: {json.dumps(function_response)}\"\n",
    "                })\n",
    "            except Exception as e:\n",
    "                print(f\"Error during function call {function_name}: {str(e)}\")\n",
    "                return f\"An error occurred: {str(e)}\"\n",
    "        elif finish_reason == \"stop\":\n",
    "            messages.append(response.choices[0].message)\n",
    "            return response.choices[0].message.content\n",
    "    return \"The maximum number of iterations has been met without a suitable answer. Please try again with a more specific input.\"\n",
    "\n"
   ]
  },
  {
   "cell_type": "code",
   "execution_count": 49,
   "metadata": {},
   "outputs": [],
   "source": [
    "# Run the agent\n",
    "# response = await agent(\"Please suggest some activities based on my location and the current weather.\")\n",
    "# print(response)\n",
    "\n"
   ]
  },
  {
   "cell_type": "code",
   "execution_count": 50,
   "metadata": {},
   "outputs": [],
   "source": [
    "async def run_agent():\n",
    "    response = await agent(\"Please suggest some activities based on my location and the current weather.\")\n",
    "    print(response)\n"
   ]
  },
  {
   "cell_type": "code",
   "execution_count": 51,
   "metadata": {},
   "outputs": [
    {
     "name": "stdout",
     "output_type": "stream",
     "text": [
      "Starting agent function...\n",
      "Iteration 1\n",
      "ChatCompletion(id='chatcmpl-9LoohrXjJ5xLkYOZnGTou7anRvau2', choices=[Choice(finish_reason='tool_calls', index=0, logprobs=None, message=ChatCompletionMessage(content=None, role='assistant', function_call=None, tool_calls=[ChatCompletionMessageToolCall(id='call_UFHhZhjqdWdUjYYLG9DLOm1v', function=Function(arguments='{}', name='getLocation'), type='function')]))], created=1714987255, model='gpt-4-0613', object='chat.completion', system_fingerprint=None, usage=CompletionUsage(completion_tokens=6, prompt_tokens=100, total_tokens=106))\n",
      "Finish reason: tool_calls\n",
      "[ChatCompletionMessageToolCall(id='call_UFHhZhjqdWdUjYYLG9DLOm1v', function=Function(arguments='{}', name='getLocation'), type='function')]\n",
      "Function name: getLocation\n",
      "Function arguments: {}\n",
      "Function getLocation returned: {'ip': '120.20.28.58', 'network': '120.20.16.0/20', 'version': 'IPv4', 'city': 'Adelaide', 'region': 'South Australia', 'region_code': 'SA', 'country': 'AU', 'country_name': 'Australia', 'country_code': 'AU', 'country_code_iso3': 'AUS', 'country_capital': 'Canberra', 'country_tld': '.au', 'continent_code': 'OC', 'in_eu': False, 'postal': '5008', 'latitude': -34.8966, 'longitude': 138.573, 'timezone': 'Australia/Adelaide', 'utc_offset': '+0930', 'country_calling_code': '+61', 'currency': 'AUD', 'currency_name': 'Dollar', 'languages': 'en-AU', 'country_area': 7686850, 'country_population': 24992369, 'asn': 'AS133612', 'org': 'Vodafone Australia Pty Ltd'}\n",
      "Iteration 2\n",
      "ChatCompletion(id='chatcmpl-9LooizkcDDqkKVRWBC4sbKZYCXUHJ', choices=[Choice(finish_reason='tool_calls', index=0, logprobs=None, message=ChatCompletionMessage(content=None, role='assistant', function_call=None, tool_calls=[ChatCompletionMessageToolCall(id='call_xM0kN2VhnjeOXN7XvF9a2p4I', function=Function(arguments='{\\n\"latitude\": \"-34.8966\",\\n\"longitude\": \"138.573\"\\n}', name='getCurrentWeather'), type='function')]))], created=1714987256, model='gpt-4-0613', object='chat.completion', system_fingerprint=None, usage=CompletionUsage(completion_tokens=25, prompt_tokens=336, total_tokens=361))\n",
      "Finish reason: tool_calls\n",
      "[ChatCompletionMessageToolCall(id='call_xM0kN2VhnjeOXN7XvF9a2p4I', function=Function(arguments='{\\n\"latitude\": \"-34.8966\",\\n\"longitude\": \"138.573\"\\n}', name='getCurrentWeather'), type='function')]\n",
      "Function name: getCurrentWeather\n",
      "Function arguments: {'latitude': '-34.8966', 'longitude': '138.573'}\n",
      "Function getCurrentWeather returned: {'latitude': -34.875, 'longitude': 138.5, 'generationtime_ms': 0.07402896881103516, 'utc_offset_seconds': 0, 'timezone': 'GMT', 'timezone_abbreviation': 'GMT', 'elevation': 15.0, 'hourly_units': {'time': 'iso8601', 'apparent_temperature': '°C'}, 'hourly': {'time': ['2024-05-06T00:00', '2024-05-06T01:00', '2024-05-06T02:00', '2024-05-06T03:00', '2024-05-06T04:00', '2024-05-06T05:00', '2024-05-06T06:00', '2024-05-06T07:00', '2024-05-06T08:00', '2024-05-06T09:00', '2024-05-06T10:00', '2024-05-06T11:00', '2024-05-06T12:00', '2024-05-06T13:00', '2024-05-06T14:00', '2024-05-06T15:00', '2024-05-06T16:00', '2024-05-06T17:00', '2024-05-06T18:00', '2024-05-06T19:00', '2024-05-06T20:00', '2024-05-06T21:00', '2024-05-06T22:00', '2024-05-06T23:00', '2024-05-07T00:00', '2024-05-07T01:00', '2024-05-07T02:00', '2024-05-07T03:00', '2024-05-07T04:00', '2024-05-07T05:00', '2024-05-07T06:00', '2024-05-07T07:00', '2024-05-07T08:00', '2024-05-07T09:00', '2024-05-07T10:00', '2024-05-07T11:00', '2024-05-07T12:00', '2024-05-07T13:00', '2024-05-07T14:00', '2024-05-07T15:00', '2024-05-07T16:00', '2024-05-07T17:00', '2024-05-07T18:00', '2024-05-07T19:00', '2024-05-07T20:00', '2024-05-07T21:00', '2024-05-07T22:00', '2024-05-07T23:00', '2024-05-08T00:00', '2024-05-08T01:00', '2024-05-08T02:00', '2024-05-08T03:00', '2024-05-08T04:00', '2024-05-08T05:00', '2024-05-08T06:00', '2024-05-08T07:00', '2024-05-08T08:00', '2024-05-08T09:00', '2024-05-08T10:00', '2024-05-08T11:00', '2024-05-08T12:00', '2024-05-08T13:00', '2024-05-08T14:00', '2024-05-08T15:00', '2024-05-08T16:00', '2024-05-08T17:00', '2024-05-08T18:00', '2024-05-08T19:00', '2024-05-08T20:00', '2024-05-08T21:00', '2024-05-08T22:00', '2024-05-08T23:00', '2024-05-09T00:00', '2024-05-09T01:00', '2024-05-09T02:00', '2024-05-09T03:00', '2024-05-09T04:00', '2024-05-09T05:00', '2024-05-09T06:00', '2024-05-09T07:00', '2024-05-09T08:00', '2024-05-09T09:00', '2024-05-09T10:00', '2024-05-09T11:00', '2024-05-09T12:00', '2024-05-09T13:00', '2024-05-09T14:00', '2024-05-09T15:00', '2024-05-09T16:00', '2024-05-09T17:00', '2024-05-09T18:00', '2024-05-09T19:00', '2024-05-09T20:00', '2024-05-09T21:00', '2024-05-09T22:00', '2024-05-09T23:00', '2024-05-10T00:00', '2024-05-10T01:00', '2024-05-10T02:00', '2024-05-10T03:00', '2024-05-10T04:00', '2024-05-10T05:00', '2024-05-10T06:00', '2024-05-10T07:00', '2024-05-10T08:00', '2024-05-10T09:00', '2024-05-10T10:00', '2024-05-10T11:00', '2024-05-10T12:00', '2024-05-10T13:00', '2024-05-10T14:00', '2024-05-10T15:00', '2024-05-10T16:00', '2024-05-10T17:00', '2024-05-10T18:00', '2024-05-10T19:00', '2024-05-10T20:00', '2024-05-10T21:00', '2024-05-10T22:00', '2024-05-10T23:00', '2024-05-11T00:00', '2024-05-11T01:00', '2024-05-11T02:00', '2024-05-11T03:00', '2024-05-11T04:00', '2024-05-11T05:00', '2024-05-11T06:00', '2024-05-11T07:00', '2024-05-11T08:00', '2024-05-11T09:00', '2024-05-11T10:00', '2024-05-11T11:00', '2024-05-11T12:00', '2024-05-11T13:00', '2024-05-11T14:00', '2024-05-11T15:00', '2024-05-11T16:00', '2024-05-11T17:00', '2024-05-11T18:00', '2024-05-11T19:00', '2024-05-11T20:00', '2024-05-11T21:00', '2024-05-11T22:00', '2024-05-11T23:00', '2024-05-12T00:00', '2024-05-12T01:00', '2024-05-12T02:00', '2024-05-12T03:00', '2024-05-12T04:00', '2024-05-12T05:00', '2024-05-12T06:00', '2024-05-12T07:00', '2024-05-12T08:00', '2024-05-12T09:00', '2024-05-12T10:00', '2024-05-12T11:00', '2024-05-12T12:00', '2024-05-12T13:00', '2024-05-12T14:00', '2024-05-12T15:00', '2024-05-12T16:00', '2024-05-12T17:00', '2024-05-12T18:00', '2024-05-12T19:00', '2024-05-12T20:00', '2024-05-12T21:00', '2024-05-12T22:00', '2024-05-12T23:00'], 'apparent_temperature': [15.5, 17.0, 18.3, 19.1, 19.3, 19.3, 19.0, 17.8, 16.2, 15.4, 14.7, 14.2, 13.9, 13.5, 13.2, 12.9, 12.5, 12.3, 12.1, 11.9, 11.4, 11.2, 11.1, 13.3, 16.5, 19.1, 20.0, 20.0, 18.8, 19.0, 19.3, 19.5, 18.9, 16.9, 15.7, 14.9, 14.4, 13.9, 13.7, 13.3, 13.1, 12.9, 12.6, 12.3, 12.1, 11.9, 11.9, 13.7, 16.1, 17.5, 18.4, 19.0, 19.1, 19.1, 18.9, 18.5, 17.7, 16.3, 15.1, 14.5, 13.9, 13.5, 13.5, 13.4, 13.4, 13.4, 13.2, 13.1, 13.0, 12.7, 12.4, 13.9, 16.1, 17.8, 19.2, 19.8, 19.7, 19.2, 18.6, 17.6, 16.4, 15.1, 14.1, 13.3, 12.7, 12.3, 12.2, 12.1, 12.1, 12.1, 12.0, 11.7, 11.3, 11.6, 12.9, 14.7, 16.4, 17.7, 18.8, 19.5, 19.5, 19.3, 19.0, 18.4, 17.4, 16.4, 15.6, 14.9, 14.4, 14.2, 14.2, 14.2, 14.0, 13.6, 13.2, 12.6, 12.0, 12.0, 13.1, 14.8, 16.5, 17.5, 18.1, 18.8, 18.7, 18.4, 18.1, 17.9, 17.7, 17.0, 16.1, 15.1, 13.9, 13.1, 12.7, 12.2, 11.6, 10.9, 10.3, 9.5, 9.0, 9.4, 11.0, 13.5, 15.5, 16.9, 17.9, 18.7, 18.9, 18.6, 18.2, 17.8, 17.1, 16.2, 15.4, 14.7, 14.3, 14.0, 13.8, 13.6, 13.4, 13.1, 12.9, 12.5, 12.2, 12.3, 13.1, 14.4]}}\n",
      "Iteration 3\n",
      "ChatCompletion(id='chatcmpl-9LoolcQM5JfCMJd7AULj7Z8IwCnOi', choices=[Choice(finish_reason='stop', index=0, logprobs=None, message=ChatCompletionMessage(content='Based on your location in Adelaide, South Australia, and the current weather which seems to be moderately warm, I would suggest the following activities:\\n\\n1. Visit the Adelaide Zoo: Take advantage of the nice weather to explore the outdoor exhibits.\\n2. Go to the beach: Head to Glenelg Beach, Brighton Beach or Henley Beach for a relaxing time by the sea.\\n3. Explore the Adelaide Botanic Gardens: Enjoy the beautiful flora while strolling through the park.\\n4. Visit the Art Gallery of South Australia: If it gets too warm, you can seek some cool inside while admiring the art.\\n5. Have a picnic in Rymill Park: Great weather for an outdoor meal.\\n6. Visit the Adelaide Central Market: Explore local produce and unique items from more than 70 traders under one roof.\\n7. Go on a hike in Morialta Conservation Park: If you enjoy physical activities, a hike in this park could be refreshing.\\n\\nRemember to stay hydrated and use sun protection!', role='assistant', function_call=None, tool_calls=None))], created=1714987259, model='gpt-4-0613', object='chat.completion', system_fingerprint=None, usage=CompletionUsage(completion_tokens=203, prompt_tokens=3306, total_tokens=3509))\n",
      "Finish reason: stop\n",
      "None\n",
      "Based on your location in Adelaide, South Australia, and the current weather which seems to be moderately warm, I would suggest the following activities:\n",
      "\n",
      "1. Visit the Adelaide Zoo: Take advantage of the nice weather to explore the outdoor exhibits.\n",
      "2. Go to the beach: Head to Glenelg Beach, Brighton Beach or Henley Beach for a relaxing time by the sea.\n",
      "3. Explore the Adelaide Botanic Gardens: Enjoy the beautiful flora while strolling through the park.\n",
      "4. Visit the Art Gallery of South Australia: If it gets too warm, you can seek some cool inside while admiring the art.\n",
      "5. Have a picnic in Rymill Park: Great weather for an outdoor meal.\n",
      "6. Visit the Adelaide Central Market: Explore local produce and unique items from more than 70 traders under one roof.\n",
      "7. Go on a hike in Morialta Conservation Park: If you enjoy physical activities, a hike in this park could be refreshing.\n",
      "\n",
      "Remember to stay hydrated and use sun protection!\n"
     ]
    }
   ],
   "source": [
    "await run_agent()"
   ]
  },
  {
   "cell_type": "code",
   "execution_count": null,
   "metadata": {},
   "outputs": [],
   "source": []
  }
 ],
 "metadata": {
  "kernelspec": {
   "display_name": ".venv",
   "language": "python",
   "name": "python3"
  },
  "language_info": {
   "codemirror_mode": {
    "name": "ipython",
    "version": 3
   },
   "file_extension": ".py",
   "mimetype": "text/x-python",
   "name": "python",
   "nbconvert_exporter": "python",
   "pygments_lexer": "ipython3",
   "version": "3.12.3"
  }
 },
 "nbformat": 4,
 "nbformat_minor": 2
}
