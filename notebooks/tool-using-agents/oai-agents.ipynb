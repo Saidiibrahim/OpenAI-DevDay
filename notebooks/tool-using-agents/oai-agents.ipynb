{
 "cells": [
  {
   "cell_type": "code",
   "execution_count": 1,
   "metadata": {},
   "outputs": [],
   "source": [
    "import getpass\n",
    "import os\n",
    "\n",
    "\n",
    "def _set_if_undefined(var: str):\n",
    "    if not os.environ.get(var):\n",
    "        os.environ[var] = getpass(f\"Please provide your {var}\")\n",
    "\n",
    "\n",
    "_set_if_undefined(\"OPENAI_API_KEY\")\n",
    "_set_if_undefined(\"LANGCHAIN_API_KEY\")\n",
    "_set_if_undefined(\"TAVILY_API_KEY\")\n",
    "\n",
    "# Optional, add tracing in LangSmith\n",
    "os.environ[\"LANGCHAIN_TRACING_V2\"] = \"true\"\n",
    "os.environ[\"LANGCHAIN_PROJECT\"] = \"🚀Custom_OpenAI_Agent\"\n",
    "\n"
   ]
  },
  {
   "cell_type": "markdown",
   "metadata": {},
   "source": [
    "## Imports"
   ]
  },
  {
   "cell_type": "code",
   "execution_count": 2,
   "metadata": {},
   "outputs": [],
   "source": [
    "from openai import AsyncOpenAI\n",
    "from langsmith.run_helpers import traceable\n",
    "import os\n",
    "import asyncio\n",
    "import json\n",
    "import requests\n",
    "import aiohttp"
   ]
  },
  {
   "cell_type": "markdown",
   "metadata": {},
   "source": [
    "## OpenAI Setup"
   ]
  },
  {
   "cell_type": "code",
   "execution_count": 3,
   "metadata": {},
   "outputs": [],
   "source": [
    "client = AsyncOpenAI()"
   ]
  },
  {
   "cell_type": "code",
   "execution_count": 7,
   "metadata": {},
   "outputs": [],
   "source": [
    "messages = [\n",
    "    {\n",
    "      \"role\": \"system\",\n",
    "      \"content\": \"You are a helpful assistant. Only use the functions you have been provided with.\",\n",
    "    },\n",
    "    ## Add other messages as needed\n",
    "  ]\n",
    "\n"
   ]
  },
  {
   "cell_type": "code",
   "execution_count": 5,
   "metadata": {},
   "outputs": [],
   "source": [
    "tools = [\n",
    "  {\n",
    "    \"type\": \"function\",\n",
    "    \"function\": {\n",
    "      \"name\": \"getCurrentWeather\",\n",
    "      \"description\": \"Get the current weather in a given location\",\n",
    "      \"parameters\": {\n",
    "        \"type\": \"object\",\n",
    "        \"properties\": {\n",
    "          \"latitude\": {\n",
    "            \"type\": \"string\",\n",
    "          },\n",
    "          \"longitude\": {\n",
    "            \"type\": \"string\",\n",
    "          },\n",
    "        },\n",
    "        \"required\": [\"longitude\", \"latitude\"],\n",
    "      },\n",
    "    }\n",
    "  },\n",
    "  {\n",
    "    \"type\": \"function\",\n",
    "    \"function\": {\n",
    "      \"name\": \"getLocation\",\n",
    "      \"description\": \"Get the user's location based on their IP address\",\n",
    "      \"parameters\": {\n",
    "        \"type\": \"object\",\n",
    "        \"properties\": {},\n",
    "      },\n",
    "    }\n",
    "  },\n",
    "]"
   ]
  },
  {
   "cell_type": "code",
   "execution_count": 8,
   "metadata": {},
   "outputs": [],
   "source": [
    "@traceable(run_type=\"llm\",name=\"OpenAICall\")\n",
    "async def openai_call(model: str = \"gpt-4\", messages: list = messages, tools: list = tools):\n",
    "    try:\n",
    "        response = await client.chat.completions.create(\n",
    "        model=model,\n",
    "        messages=messages,\n",
    "        tools=tools,\n",
    "    )\n",
    "        return response\n",
    "    except Exception as e:\n",
    "        print(f\"Error during OpenAI call\")\n",
    "        print(f\"Exception: {e}\")\n",
    "        return e\n",
    "\n"
   ]
  },
  {
   "cell_type": "markdown",
   "metadata": {},
   "source": [
    "## Tools"
   ]
  },
  {
   "cell_type": "code",
   "execution_count": 4,
   "metadata": {},
   "outputs": [],
   "source": [
    "async def getLocation():\n",
    "    async with aiohttp.ClientSession() as session:\n",
    "        async with session.get(\"https://ipapi.co/json/\") as response:\n",
    "            location_data = await response.json()\n",
    "    return location_data\n",
    "\n",
    "async def getCurrentWeather(latitude: str, longitude: str):\n",
    "    url = f\"https://api.open-meteo.com/v1/forecast?latitude={latitude}&longitude={longitude}&hourly=apparent_temperature\"\n",
    "    async with aiohttp.ClientSession() as session:\n",
    "        async with session.get(url) as response:\n",
    "            weather_data = await response.json()\n",
    "    return weather_data\n",
    "\n"
   ]
  },
  {
   "cell_type": "code",
   "execution_count": 6,
   "metadata": {},
   "outputs": [],
   "source": [
    "availableTools = {\n",
    "    \"getCurrentWeather\": getCurrentWeather,\n",
    "    \"getLocation\": getLocation\n",
    "}\n",
    "\n"
   ]
  },
  {
   "cell_type": "markdown",
   "metadata": {},
   "source": [
    "## Agent setup"
   ]
  },
  {
   "cell_type": "code",
   "execution_count": 9,
   "metadata": {},
   "outputs": [],
   "source": [
    "@traceable(run_type=\"chain\",name=\"OpenAI-Agent\")\n",
    "async def agent(userInput: str):\n",
    "    print(\"Starting agent function...\")\n",
    "    messages.append({\n",
    "        \"role\": \"user\",\n",
    "        \"content\": userInput,\n",
    "    })\n",
    "    for i in range(5):\n",
    "        print(f\"Iteration {i+1}\")\n",
    "        response = await openai_call()\n",
    "        print(response)\n",
    "        finish_reason = response.choices[0].finish_reason\n",
    "        print(f\"Finish reason: {finish_reason}\")\n",
    "        tool_calls_in_message = response.choices[0].message.tool_calls\n",
    "        print(tool_calls_in_message)\n",
    "\n",
    "        if finish_reason == \"tool_calls\" and tool_calls_in_message:\n",
    "            function_name = tool_calls_in_message[0].function.name\n",
    "            print(f\"Function name: {function_name}\")\n",
    "            function_args = json.loads(tool_calls_in_message[0].function.arguments)\n",
    "            print(f\"Function arguments: {function_args}\")\n",
    "            function_to_call = availableTools[function_name]\n",
    "            try:\n",
    "                # Print messages before function call\n",
    "                print(f\"Messages before function call: {messages}\")\n",
    "                function_response = await function_to_call(**function_args)\n",
    "                print(f\"Function {function_name} returned: {function_response}\")\n",
    "                messages.append({\n",
    "                    \"role\": \"function\",\n",
    "                    \"name\": function_name,\n",
    "                    \"content\": f\"The result of the last function was this: {json.dumps(function_response)}\"\n",
    "                })\n",
    "                # Print messages after function call\n",
    "                print(f\"Messages after function call: {messages}\")\n",
    "            except Exception as e:\n",
    "                print(f\"Error during function call {function_name}: {str(e)}\")\n",
    "                return f\"An error occurred: {str(e)}\"\n",
    "        elif finish_reason == \"stop\":\n",
    "            messages.append(response.choices[0].message)\n",
    "            return response.choices[0].message.content\n",
    "    return \"The maximum number of iterations has been met without a suitable answer. Please try again with a more specific input.\"\n",
    "\n"
   ]
  },
  {
   "cell_type": "code",
   "execution_count": 10,
   "metadata": {},
   "outputs": [],
   "source": [
    "async def run_agent():\n",
    "    response = await agent(\"Please suggest some activities based on my location and the current weather.\")\n",
    "    print(response)\n"
   ]
  },
  {
   "cell_type": "code",
   "execution_count": 11,
   "metadata": {},
   "outputs": [
    {
     "name": "stdout",
     "output_type": "stream",
     "text": [
      "Starting agent function...\n",
      "Iteration 1\n",
      "ChatCompletion(id='chatcmpl-9NwyEXgebgI4ZizdtGUpfOXl1LA0i', choices=[Choice(finish_reason='tool_calls', index=0, logprobs=None, message=ChatCompletionMessage(content=None, role='assistant', function_call=None, tool_calls=[ChatCompletionMessageToolCall(id='call_BH4LZvXsJjmdwrxR3VEZ0fym', function=Function(arguments='{}', name='getLocation'), type='function')]))], created=1715495254, model='gpt-4-0613', object='chat.completion', system_fingerprint=None, usage=CompletionUsage(completion_tokens=6, prompt_tokens=100, total_tokens=106))\n",
      "Finish reason: tool_calls\n",
      "[ChatCompletionMessageToolCall(id='call_BH4LZvXsJjmdwrxR3VEZ0fym', function=Function(arguments='{}', name='getLocation'), type='function')]\n",
      "Function name: getLocation\n",
      "Function arguments: {}\n",
      "Messages before function call: [{'role': 'system', 'content': 'You are a helpful assistant. Only use the functions you have been provided with.'}, {'role': 'user', 'content': 'Please suggest some activities based on my location and the current weather.'}]\n",
      "Function getLocation returned: {'ip': '120.20.28.58', 'network': '120.20.16.0/20', 'version': 'IPv4', 'city': 'Adelaide', 'region': 'South Australia', 'region_code': 'SA', 'country': 'AU', 'country_name': 'Australia', 'country_code': 'AU', 'country_code_iso3': 'AUS', 'country_capital': 'Canberra', 'country_tld': '.au', 'continent_code': 'OC', 'in_eu': False, 'postal': '5008', 'latitude': -34.8966, 'longitude': 138.573, 'timezone': 'Australia/Adelaide', 'utc_offset': '+0930', 'country_calling_code': '+61', 'currency': 'AUD', 'currency_name': 'Dollar', 'languages': 'en-AU', 'country_area': 7686850.0, 'country_population': 24992369, 'asn': 'AS133612', 'org': 'Vodafone Australia Pty Ltd'}\n",
      "Messages after function call: [{'role': 'system', 'content': 'You are a helpful assistant. Only use the functions you have been provided with.'}, {'role': 'user', 'content': 'Please suggest some activities based on my location and the current weather.'}, {'role': 'function', 'name': 'getLocation', 'content': 'The result of the last function was this: {\"ip\": \"120.20.28.58\", \"network\": \"120.20.16.0/20\", \"version\": \"IPv4\", \"city\": \"Adelaide\", \"region\": \"South Australia\", \"region_code\": \"SA\", \"country\": \"AU\", \"country_name\": \"Australia\", \"country_code\": \"AU\", \"country_code_iso3\": \"AUS\", \"country_capital\": \"Canberra\", \"country_tld\": \".au\", \"continent_code\": \"OC\", \"in_eu\": false, \"postal\": \"5008\", \"latitude\": -34.8966, \"longitude\": 138.573, \"timezone\": \"Australia/Adelaide\", \"utc_offset\": \"+0930\", \"country_calling_code\": \"+61\", \"currency\": \"AUD\", \"currency_name\": \"Dollar\", \"languages\": \"en-AU\", \"country_area\": 7686850.0, \"country_population\": 24992369, \"asn\": \"AS133612\", \"org\": \"Vodafone Australia Pty Ltd\"}'}]\n",
      "Iteration 2\n",
      "ChatCompletion(id='chatcmpl-9NwyFqsy1tlhOg4TOmNDSksckHSny', choices=[Choice(finish_reason='tool_calls', index=0, logprobs=None, message=ChatCompletionMessage(content=None, role='assistant', function_call=None, tool_calls=[ChatCompletionMessageToolCall(id='call_u2V4rs7QJoEjjygA9n3k2z3S', function=Function(arguments='{\\n\"latitude\": \"-34.8966\",\\n\"longitude\": \"138.573\"\\n}', name='getCurrentWeather'), type='function')]))], created=1715495255, model='gpt-4-0613', object='chat.completion', system_fingerprint=None, usage=CompletionUsage(completion_tokens=25, prompt_tokens=338, total_tokens=363))\n",
      "Finish reason: tool_calls\n",
      "[ChatCompletionMessageToolCall(id='call_u2V4rs7QJoEjjygA9n3k2z3S', function=Function(arguments='{\\n\"latitude\": \"-34.8966\",\\n\"longitude\": \"138.573\"\\n}', name='getCurrentWeather'), type='function')]\n",
      "Function name: getCurrentWeather\n",
      "Function arguments: {'latitude': '-34.8966', 'longitude': '138.573'}\n",
      "Messages before function call: [{'role': 'system', 'content': 'You are a helpful assistant. Only use the functions you have been provided with.'}, {'role': 'user', 'content': 'Please suggest some activities based on my location and the current weather.'}, {'role': 'function', 'name': 'getLocation', 'content': 'The result of the last function was this: {\"ip\": \"120.20.28.58\", \"network\": \"120.20.16.0/20\", \"version\": \"IPv4\", \"city\": \"Adelaide\", \"region\": \"South Australia\", \"region_code\": \"SA\", \"country\": \"AU\", \"country_name\": \"Australia\", \"country_code\": \"AU\", \"country_code_iso3\": \"AUS\", \"country_capital\": \"Canberra\", \"country_tld\": \".au\", \"continent_code\": \"OC\", \"in_eu\": false, \"postal\": \"5008\", \"latitude\": -34.8966, \"longitude\": 138.573, \"timezone\": \"Australia/Adelaide\", \"utc_offset\": \"+0930\", \"country_calling_code\": \"+61\", \"currency\": \"AUD\", \"currency_name\": \"Dollar\", \"languages\": \"en-AU\", \"country_area\": 7686850.0, \"country_population\": 24992369, \"asn\": \"AS133612\", \"org\": \"Vodafone Australia Pty Ltd\"}'}]\n",
      "Function getCurrentWeather returned: {'latitude': -34.875, 'longitude': 138.5, 'generationtime_ms': 0.07903575897216797, 'utc_offset_seconds': 0, 'timezone': 'GMT', 'timezone_abbreviation': 'GMT', 'elevation': 15.0, 'hourly_units': {'time': 'iso8601', 'apparent_temperature': '°C'}, 'hourly': {'time': ['2024-05-12T00:00', '2024-05-12T01:00', '2024-05-12T02:00', '2024-05-12T03:00', '2024-05-12T04:00', '2024-05-12T05:00', '2024-05-12T06:00', '2024-05-12T07:00', '2024-05-12T08:00', '2024-05-12T09:00', '2024-05-12T10:00', '2024-05-12T11:00', '2024-05-12T12:00', '2024-05-12T13:00', '2024-05-12T14:00', '2024-05-12T15:00', '2024-05-12T16:00', '2024-05-12T17:00', '2024-05-12T18:00', '2024-05-12T19:00', '2024-05-12T20:00', '2024-05-12T21:00', '2024-05-12T22:00', '2024-05-12T23:00', '2024-05-13T00:00', '2024-05-13T01:00', '2024-05-13T02:00', '2024-05-13T03:00', '2024-05-13T04:00', '2024-05-13T05:00', '2024-05-13T06:00', '2024-05-13T07:00', '2024-05-13T08:00', '2024-05-13T09:00', '2024-05-13T10:00', '2024-05-13T11:00', '2024-05-13T12:00', '2024-05-13T13:00', '2024-05-13T14:00', '2024-05-13T15:00', '2024-05-13T16:00', '2024-05-13T17:00', '2024-05-13T18:00', '2024-05-13T19:00', '2024-05-13T20:00', '2024-05-13T21:00', '2024-05-13T22:00', '2024-05-13T23:00', '2024-05-14T00:00', '2024-05-14T01:00', '2024-05-14T02:00', '2024-05-14T03:00', '2024-05-14T04:00', '2024-05-14T05:00', '2024-05-14T06:00', '2024-05-14T07:00', '2024-05-14T08:00', '2024-05-14T09:00', '2024-05-14T10:00', '2024-05-14T11:00', '2024-05-14T12:00', '2024-05-14T13:00', '2024-05-14T14:00', '2024-05-14T15:00', '2024-05-14T16:00', '2024-05-14T17:00', '2024-05-14T18:00', '2024-05-14T19:00', '2024-05-14T20:00', '2024-05-14T21:00', '2024-05-14T22:00', '2024-05-14T23:00', '2024-05-15T00:00', '2024-05-15T01:00', '2024-05-15T02:00', '2024-05-15T03:00', '2024-05-15T04:00', '2024-05-15T05:00', '2024-05-15T06:00', '2024-05-15T07:00', '2024-05-15T08:00', '2024-05-15T09:00', '2024-05-15T10:00', '2024-05-15T11:00', '2024-05-15T12:00', '2024-05-15T13:00', '2024-05-15T14:00', '2024-05-15T15:00', '2024-05-15T16:00', '2024-05-15T17:00', '2024-05-15T18:00', '2024-05-15T19:00', '2024-05-15T20:00', '2024-05-15T21:00', '2024-05-15T22:00', '2024-05-15T23:00', '2024-05-16T00:00', '2024-05-16T01:00', '2024-05-16T02:00', '2024-05-16T03:00', '2024-05-16T04:00', '2024-05-16T05:00', '2024-05-16T06:00', '2024-05-16T07:00', '2024-05-16T08:00', '2024-05-16T09:00', '2024-05-16T10:00', '2024-05-16T11:00', '2024-05-16T12:00', '2024-05-16T13:00', '2024-05-16T14:00', '2024-05-16T15:00', '2024-05-16T16:00', '2024-05-16T17:00', '2024-05-16T18:00', '2024-05-16T19:00', '2024-05-16T20:00', '2024-05-16T21:00', '2024-05-16T22:00', '2024-05-16T23:00', '2024-05-17T00:00', '2024-05-17T01:00', '2024-05-17T02:00', '2024-05-17T03:00', '2024-05-17T04:00', '2024-05-17T05:00', '2024-05-17T06:00', '2024-05-17T07:00', '2024-05-17T08:00', '2024-05-17T09:00', '2024-05-17T10:00', '2024-05-17T11:00', '2024-05-17T12:00', '2024-05-17T13:00', '2024-05-17T14:00', '2024-05-17T15:00', '2024-05-17T16:00', '2024-05-17T17:00', '2024-05-17T18:00', '2024-05-17T19:00', '2024-05-17T20:00', '2024-05-17T21:00', '2024-05-17T22:00', '2024-05-17T23:00', '2024-05-18T00:00', '2024-05-18T01:00', '2024-05-18T02:00', '2024-05-18T03:00', '2024-05-18T04:00', '2024-05-18T05:00', '2024-05-18T06:00', '2024-05-18T07:00', '2024-05-18T08:00', '2024-05-18T09:00', '2024-05-18T10:00', '2024-05-18T11:00', '2024-05-18T12:00', '2024-05-18T13:00', '2024-05-18T14:00', '2024-05-18T15:00', '2024-05-18T16:00', '2024-05-18T17:00', '2024-05-18T18:00', '2024-05-18T19:00', '2024-05-18T20:00', '2024-05-18T21:00', '2024-05-18T22:00', '2024-05-18T23:00'], 'apparent_temperature': [12.3, 13.7, 14.6, 15.4, 15.8, 16.0, 16.1, 15.9, 15.6, 15.4, 14.8, 13.8, 12.6, 11.6, 11.4, 11.4, 11.3, 11.2, 10.8, 10.8, 10.9, 10.7, 10.6, 12.1, 13.6, 15.0, 16.0, 16.6, 16.9, 17.0, 16.9, 16.6, 16.2, 15.9, 15.5, 15.0, 14.3, 13.6, 13.0, 12.6, 12.0, 11.5, 11.5, 11.5, 11.9, 11.9, 11.8, 13.2, 15.0, 16.8, 17.9, 18.5, 18.6, 17.9, 16.9, 16.5, 16.3, 16.1, 15.7, 14.6, 14.0, 13.8, 13.3, 13.3, 13.1, 13.2, 13.1, 12.8, 12.7, 12.4, 12.4, 13.7, 16.8, 17.8, 18.9, 19.7, 19.8, 19.0, 18.4, 18.2, 18.0, 17.5, 16.6, 15.9, 15.2, 14.9, 14.6, 14.4, 14.0, 13.5, 13.0, 12.4, 11.6, 11.5, 12.4, 13.9, 15.2, 16.1, 16.7, 17.0, 16.8, 16.2, 15.8, 15.7, 15.9, 15.7, 14.9, 13.7, 12.3, 11.5, 11.0, 10.5, 10.1, 9.7, 9.4, 9.2, 9.1, 9.5, 10.8, 12.4, 14.2, 15.4, 16.0, 16.4, 16.9, 17.3, 17.2, 16.8, 16.0, 15.2, 14.5, 13.7, 13.0, 12.7, 12.5, 12.2, 11.7, 11.1, 10.7, 10.3, 9.9, 9.9, 10.6, 11.8, 13.1, 14.5, 14.9, 14.9, 14.7, 14.3, 13.9, 13.8, 13.7, 13.8, 14.0, 14.1, 14.2, 14.1, 13.9, 13.7, 13.5, 13.2, 13.1, 13.2, 13.3, 13.5, 13.7, 13.9]}}\n",
      "Messages after function call: [{'role': 'system', 'content': 'You are a helpful assistant. Only use the functions you have been provided with.'}, {'role': 'user', 'content': 'Please suggest some activities based on my location and the current weather.'}, {'role': 'function', 'name': 'getLocation', 'content': 'The result of the last function was this: {\"ip\": \"120.20.28.58\", \"network\": \"120.20.16.0/20\", \"version\": \"IPv4\", \"city\": \"Adelaide\", \"region\": \"South Australia\", \"region_code\": \"SA\", \"country\": \"AU\", \"country_name\": \"Australia\", \"country_code\": \"AU\", \"country_code_iso3\": \"AUS\", \"country_capital\": \"Canberra\", \"country_tld\": \".au\", \"continent_code\": \"OC\", \"in_eu\": false, \"postal\": \"5008\", \"latitude\": -34.8966, \"longitude\": 138.573, \"timezone\": \"Australia/Adelaide\", \"utc_offset\": \"+0930\", \"country_calling_code\": \"+61\", \"currency\": \"AUD\", \"currency_name\": \"Dollar\", \"languages\": \"en-AU\", \"country_area\": 7686850.0, \"country_population\": 24992369, \"asn\": \"AS133612\", \"org\": \"Vodafone Australia Pty Ltd\"}'}, {'role': 'function', 'name': 'getCurrentWeather', 'content': 'The result of the last function was this: {\"latitude\": -34.875, \"longitude\": 138.5, \"generationtime_ms\": 0.07903575897216797, \"utc_offset_seconds\": 0, \"timezone\": \"GMT\", \"timezone_abbreviation\": \"GMT\", \"elevation\": 15.0, \"hourly_units\": {\"time\": \"iso8601\", \"apparent_temperature\": \"\\\\u00b0C\"}, \"hourly\": {\"time\": [\"2024-05-12T00:00\", \"2024-05-12T01:00\", \"2024-05-12T02:00\", \"2024-05-12T03:00\", \"2024-05-12T04:00\", \"2024-05-12T05:00\", \"2024-05-12T06:00\", \"2024-05-12T07:00\", \"2024-05-12T08:00\", \"2024-05-12T09:00\", \"2024-05-12T10:00\", \"2024-05-12T11:00\", \"2024-05-12T12:00\", \"2024-05-12T13:00\", \"2024-05-12T14:00\", \"2024-05-12T15:00\", \"2024-05-12T16:00\", \"2024-05-12T17:00\", \"2024-05-12T18:00\", \"2024-05-12T19:00\", \"2024-05-12T20:00\", \"2024-05-12T21:00\", \"2024-05-12T22:00\", \"2024-05-12T23:00\", \"2024-05-13T00:00\", \"2024-05-13T01:00\", \"2024-05-13T02:00\", \"2024-05-13T03:00\", \"2024-05-13T04:00\", \"2024-05-13T05:00\", \"2024-05-13T06:00\", \"2024-05-13T07:00\", \"2024-05-13T08:00\", \"2024-05-13T09:00\", \"2024-05-13T10:00\", \"2024-05-13T11:00\", \"2024-05-13T12:00\", \"2024-05-13T13:00\", \"2024-05-13T14:00\", \"2024-05-13T15:00\", \"2024-05-13T16:00\", \"2024-05-13T17:00\", \"2024-05-13T18:00\", \"2024-05-13T19:00\", \"2024-05-13T20:00\", \"2024-05-13T21:00\", \"2024-05-13T22:00\", \"2024-05-13T23:00\", \"2024-05-14T00:00\", \"2024-05-14T01:00\", \"2024-05-14T02:00\", \"2024-05-14T03:00\", \"2024-05-14T04:00\", \"2024-05-14T05:00\", \"2024-05-14T06:00\", \"2024-05-14T07:00\", \"2024-05-14T08:00\", \"2024-05-14T09:00\", \"2024-05-14T10:00\", \"2024-05-14T11:00\", \"2024-05-14T12:00\", \"2024-05-14T13:00\", \"2024-05-14T14:00\", \"2024-05-14T15:00\", \"2024-05-14T16:00\", \"2024-05-14T17:00\", \"2024-05-14T18:00\", \"2024-05-14T19:00\", \"2024-05-14T20:00\", \"2024-05-14T21:00\", \"2024-05-14T22:00\", \"2024-05-14T23:00\", \"2024-05-15T00:00\", \"2024-05-15T01:00\", \"2024-05-15T02:00\", \"2024-05-15T03:00\", \"2024-05-15T04:00\", \"2024-05-15T05:00\", \"2024-05-15T06:00\", \"2024-05-15T07:00\", \"2024-05-15T08:00\", \"2024-05-15T09:00\", \"2024-05-15T10:00\", \"2024-05-15T11:00\", \"2024-05-15T12:00\", \"2024-05-15T13:00\", \"2024-05-15T14:00\", \"2024-05-15T15:00\", \"2024-05-15T16:00\", \"2024-05-15T17:00\", \"2024-05-15T18:00\", \"2024-05-15T19:00\", \"2024-05-15T20:00\", \"2024-05-15T21:00\", \"2024-05-15T22:00\", \"2024-05-15T23:00\", \"2024-05-16T00:00\", \"2024-05-16T01:00\", \"2024-05-16T02:00\", \"2024-05-16T03:00\", \"2024-05-16T04:00\", \"2024-05-16T05:00\", \"2024-05-16T06:00\", \"2024-05-16T07:00\", \"2024-05-16T08:00\", \"2024-05-16T09:00\", \"2024-05-16T10:00\", \"2024-05-16T11:00\", \"2024-05-16T12:00\", \"2024-05-16T13:00\", \"2024-05-16T14:00\", \"2024-05-16T15:00\", \"2024-05-16T16:00\", \"2024-05-16T17:00\", \"2024-05-16T18:00\", \"2024-05-16T19:00\", \"2024-05-16T20:00\", \"2024-05-16T21:00\", \"2024-05-16T22:00\", \"2024-05-16T23:00\", \"2024-05-17T00:00\", \"2024-05-17T01:00\", \"2024-05-17T02:00\", \"2024-05-17T03:00\", \"2024-05-17T04:00\", \"2024-05-17T05:00\", \"2024-05-17T06:00\", \"2024-05-17T07:00\", \"2024-05-17T08:00\", \"2024-05-17T09:00\", \"2024-05-17T10:00\", \"2024-05-17T11:00\", \"2024-05-17T12:00\", \"2024-05-17T13:00\", \"2024-05-17T14:00\", \"2024-05-17T15:00\", \"2024-05-17T16:00\", \"2024-05-17T17:00\", \"2024-05-17T18:00\", \"2024-05-17T19:00\", \"2024-05-17T20:00\", \"2024-05-17T21:00\", \"2024-05-17T22:00\", \"2024-05-17T23:00\", \"2024-05-18T00:00\", \"2024-05-18T01:00\", \"2024-05-18T02:00\", \"2024-05-18T03:00\", \"2024-05-18T04:00\", \"2024-05-18T05:00\", \"2024-05-18T06:00\", \"2024-05-18T07:00\", \"2024-05-18T08:00\", \"2024-05-18T09:00\", \"2024-05-18T10:00\", \"2024-05-18T11:00\", \"2024-05-18T12:00\", \"2024-05-18T13:00\", \"2024-05-18T14:00\", \"2024-05-18T15:00\", \"2024-05-18T16:00\", \"2024-05-18T17:00\", \"2024-05-18T18:00\", \"2024-05-18T19:00\", \"2024-05-18T20:00\", \"2024-05-18T21:00\", \"2024-05-18T22:00\", \"2024-05-18T23:00\"], \"apparent_temperature\": [12.3, 13.7, 14.6, 15.4, 15.8, 16.0, 16.1, 15.9, 15.6, 15.4, 14.8, 13.8, 12.6, 11.6, 11.4, 11.4, 11.3, 11.2, 10.8, 10.8, 10.9, 10.7, 10.6, 12.1, 13.6, 15.0, 16.0, 16.6, 16.9, 17.0, 16.9, 16.6, 16.2, 15.9, 15.5, 15.0, 14.3, 13.6, 13.0, 12.6, 12.0, 11.5, 11.5, 11.5, 11.9, 11.9, 11.8, 13.2, 15.0, 16.8, 17.9, 18.5, 18.6, 17.9, 16.9, 16.5, 16.3, 16.1, 15.7, 14.6, 14.0, 13.8, 13.3, 13.3, 13.1, 13.2, 13.1, 12.8, 12.7, 12.4, 12.4, 13.7, 16.8, 17.8, 18.9, 19.7, 19.8, 19.0, 18.4, 18.2, 18.0, 17.5, 16.6, 15.9, 15.2, 14.9, 14.6, 14.4, 14.0, 13.5, 13.0, 12.4, 11.6, 11.5, 12.4, 13.9, 15.2, 16.1, 16.7, 17.0, 16.8, 16.2, 15.8, 15.7, 15.9, 15.7, 14.9, 13.7, 12.3, 11.5, 11.0, 10.5, 10.1, 9.7, 9.4, 9.2, 9.1, 9.5, 10.8, 12.4, 14.2, 15.4, 16.0, 16.4, 16.9, 17.3, 17.2, 16.8, 16.0, 15.2, 14.5, 13.7, 13.0, 12.7, 12.5, 12.2, 11.7, 11.1, 10.7, 10.3, 9.9, 9.9, 10.6, 11.8, 13.1, 14.5, 14.9, 14.9, 14.7, 14.3, 13.9, 13.8, 13.7, 13.8, 14.0, 14.1, 14.2, 14.1, 13.9, 13.7, 13.5, 13.2, 13.1, 13.2, 13.3, 13.5, 13.7, 13.9]}}'}]\n",
      "Iteration 3\n",
      "ChatCompletion(id='chatcmpl-9NwyIk6HFX0X15ydXAKJqNnDdy4jm', choices=[Choice(finish_reason='stop', index=0, logprobs=None, message=ChatCompletionMessage(content=\"Based on your location in Adelaide, South Australia, and the current weather, with an apparent temperature ranging from 9.1°C to 19.8°C over the next few hours, here are some activity suggestions:\\n\\n1. Visit the Adelaide Botanic Garden: Perfect weather for a walk through the greenery. Remember to bring a jacket or sweater in case it feels chilly.\\n   \\n2. Explore the Art Gallery of South Australia: If you are into art, this would be an excellent indoor activity that doesn't depend on the weather.\\n   \\n3. Grab a coffee from a local café: Adelaide is known for its fantastic coffee. This is a lovely way to warm up in the cooler weather.\\n\\n4. Visit the Central Market: You can enjoy some fresh local produce and experience the local culture, without worrying about the outdoor temperature.\\n\\n5. Check out a local winery: Adelaide is famous for its wineries, and taking a tour of one could be a fun and educational way to spend the day.\\n\\nRemember to adhere to local weather advisories and dress warmly to ensure you are comfortable while enjoying these activities.\", role='assistant', function_call=None, tool_calls=None))], created=1715495258, model='gpt-4-0613', object='chat.completion', system_fingerprint=None, usage=CompletionUsage(completion_tokens=224, prompt_tokens=3308, total_tokens=3532))\n",
      "Finish reason: stop\n",
      "None\n",
      "Based on your location in Adelaide, South Australia, and the current weather, with an apparent temperature ranging from 9.1°C to 19.8°C over the next few hours, here are some activity suggestions:\n",
      "\n",
      "1. Visit the Adelaide Botanic Garden: Perfect weather for a walk through the greenery. Remember to bring a jacket or sweater in case it feels chilly.\n",
      "   \n",
      "2. Explore the Art Gallery of South Australia: If you are into art, this would be an excellent indoor activity that doesn't depend on the weather.\n",
      "   \n",
      "3. Grab a coffee from a local café: Adelaide is known for its fantastic coffee. This is a lovely way to warm up in the cooler weather.\n",
      "\n",
      "4. Visit the Central Market: You can enjoy some fresh local produce and experience the local culture, without worrying about the outdoor temperature.\n",
      "\n",
      "5. Check out a local winery: Adelaide is famous for its wineries, and taking a tour of one could be a fun and educational way to spend the day.\n",
      "\n",
      "Remember to adhere to local weather advisories and dress warmly to ensure you are comfortable while enjoying these activities.\n"
     ]
    }
   ],
   "source": [
    "await run_agent()"
   ]
  },
  {
   "cell_type": "code",
   "execution_count": null,
   "metadata": {},
   "outputs": [],
   "source": []
  }
 ],
 "metadata": {
  "kernelspec": {
   "display_name": ".venv",
   "language": "python",
   "name": "python3"
  },
  "language_info": {
   "codemirror_mode": {
    "name": "ipython",
    "version": 3
   },
   "file_extension": ".py",
   "mimetype": "text/x-python",
   "name": "python",
   "nbconvert_exporter": "python",
   "pygments_lexer": "ipython3",
   "version": "3.12.3"
  }
 },
 "nbformat": 4,
 "nbformat_minor": 2
}
