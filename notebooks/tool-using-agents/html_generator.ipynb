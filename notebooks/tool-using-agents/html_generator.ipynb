{
 "cells": [
  {
   "cell_type": "code",
   "execution_count": 1,
   "metadata": {},
   "outputs": [],
   "source": [
    "import getpass\n",
    "import os\n",
    "\n",
    "\n",
    "def _set_if_undefined(var: str):\n",
    "    if not os.environ.get(var):\n",
    "        os.environ[var] = getpass(f\"Please provide your {var}\")\n",
    "\n",
    "\n",
    "_set_if_undefined(\"OPENAI_API_KEY\")\n",
    "# _set_if_undefined(\"LANGCHAIN_API_KEY\")\n",
    "_set_if_undefined(\"TAVILY_API_KEY\")\n",
    "\n",
    "# Optional, add tracing in LangSmith\n",
    "# os.environ[\"LANGCHAIN_TRACING_V2\"] = \"true\"\n",
    "# os.environ[\"LANGCHAIN_PROJECT\"] = \"🚀Custom_OpenAI_Agent\"\n",
    "\n"
   ]
  },
  {
   "cell_type": "code",
   "execution_count": 2,
   "metadata": {},
   "outputs": [],
   "source": [
    "from openai import AsyncOpenAI\n",
    "client = AsyncOpenAI()"
   ]
  },
  {
   "cell_type": "code",
   "execution_count": 7,
   "metadata": {},
   "outputs": [],
   "source": [
    "async def htmlContentGenerator(raw_content: str):\n",
    "    \"\"\"A tool to convert text to HTML\"\"\"\n",
    "    try:\n",
    "        response = await client.chat.completions.create(\n",
    "        model=\"gpt-4o\",\n",
    "        messages=[\n",
    "            {\n",
    "                \"role\": \"user\",\n",
    "                \"content\": f\"\"\" \n",
    "                You are to convert a given text into HTML format.\n",
    "                Here is the text: {raw_content}.\n",
    "                Please only reply with the html code, no explanation needed.\n",
    "                Here is an example:\n",
    "                User: Please convert the following text into html (Hello world)\n",
    "                Your response: \"<p>Hello World</p>\"\n",
    "\n",
    "                IMPORTANT: the html content you produce will be used as into an email.\n",
    "                So please don't include thinks like backticks in your response.\n",
    "                For example: Instead of [```html\\n<p>Hi everyone!</p>\\n```], simply return [<p>Hi everyone!</p>]\n",
    "                    \"\"\"\n",
    "            }\n",
    "        ],\n",
    "    )\n",
    "        # response_content = response.choices[0].message.content\n",
    "        return response\n",
    "    except Exception as e:\n",
    "        print(f\"Error during OpenAI call\")\n",
    "        print(f\"Exception: {e}\")\n",
    "        return e\n"
   ]
  },
  {
   "cell_type": "code",
   "execution_count": 8,
   "metadata": {},
   "outputs": [],
   "source": [
    "# Try the function\n",
    "response = await htmlContentGenerator(\"Please convert this text into html: Hi everyone!\")"
   ]
  },
  {
   "cell_type": "code",
   "execution_count": 9,
   "metadata": {},
   "outputs": [
    {
     "data": {
      "text/plain": [
       "ChatCompletion(id='chatcmpl-9g8llU0r9kPEsm2E6tvzAPgnSkM6L', choices=[Choice(finish_reason='stop', index=0, logprobs=None, message=ChatCompletionMessage(content='<p>Hi everyone!</p>', role='assistant', function_call=None, tool_calls=None))], created=1719830513, model='gpt-4o-2024-05-13', object='chat.completion', system_fingerprint='fp_ce0793330f', usage=CompletionUsage(completion_tokens=7, prompt_tokens=142, total_tokens=149))"
      ]
     },
     "execution_count": 9,
     "metadata": {},
     "output_type": "execute_result"
    }
   ],
   "source": [
    "response"
   ]
  },
  {
   "cell_type": "code",
   "execution_count": null,
   "metadata": {},
   "outputs": [],
   "source": []
  }
 ],
 "metadata": {
  "kernelspec": {
   "display_name": ".venv",
   "language": "python",
   "name": "python3"
  },
  "language_info": {
   "codemirror_mode": {
    "name": "ipython",
    "version": 3
   },
   "file_extension": ".py",
   "mimetype": "text/x-python",
   "name": "python",
   "nbconvert_exporter": "python",
   "pygments_lexer": "ipython3",
   "version": "3.12.3"
  }
 },
 "nbformat": 4,
 "nbformat_minor": 2
}
