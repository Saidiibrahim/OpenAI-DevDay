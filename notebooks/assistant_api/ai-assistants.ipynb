{
 "cells": [
  {
   "cell_type": "code",
   "execution_count": 1,
   "metadata": {},
   "outputs": [],
   "source": [
    "from pathlib import Path\n",
    "from openai import OpenAI\n",
    "import io\n",
    "from pydub import AudioSegment\n",
    "from pydub.playback import play\n",
    "import os\n",
    "from dotenv import load_dotenv"
   ]
  },
  {
   "cell_type": "code",
   "execution_count": 2,
   "metadata": {},
   "outputs": [],
   "source": [
    "# env variables\n",
    "load_dotenv()\n",
    "my_key = os.getenv('OPENAI_API_KEY')\n",
    "\n",
    "# OpenAI API\n",
    "client = OpenAI(api_key=my_key)"
   ]
  },
  {
   "cell_type": "markdown",
   "metadata": {},
   "source": [
    "### Creating the Thread"
   ]
  },
  {
   "cell_type": "code",
   "execution_count": 3,
   "metadata": {},
   "outputs": [
    {
     "name": "stdout",
     "output_type": "stream",
     "text": [
      "created thread:  thread_VyoqRMiKYzgkuyc5FdX2cspl\n"
     ]
    }
   ],
   "source": [
    "# create a thread\n",
    "thread = client.beta.threads.create()\n",
    "print(\"created thread: \", thread.id)"
   ]
  },
  {
   "cell_type": "markdown",
   "metadata": {},
   "source": [
    "### Adding messages to thread"
   ]
  },
  {
   "cell_type": "code",
   "execution_count": 4,
   "metadata": {},
   "outputs": [],
   "source": [
    "# add a message to a thread\n",
    "message = client.beta.threads.messages.create(\n",
    "    thread_id=thread.id,\n",
    "    role=\"user\",\n",
    "    content=\"I need to solve the equation `3x + 11 = 14`. Can you help me?\"\n",
    ")"
   ]
  },
  {
   "cell_type": "code",
   "execution_count": 5,
   "metadata": {},
   "outputs": [
    {
     "name": "stdout",
     "output_type": "stream",
     "text": [
      "[ThreadMessage(id='msg_cUrofbY1NWdG3Q9NkVcpxbIn', assistant_id=None, content=[MessageContentText(text=Text(annotations=[], value='I need to solve the equation `3x + 11 = 14`. Can you help me?'), type='text')], created_at=1699582492, file_ids=[], metadata={}, object='thread.message', role='user', run_id=None, thread_id='thread_VyoqRMiKYzgkuyc5FdX2cspl')]\n"
     ]
    }
   ],
   "source": [
    "# print thread messages\n",
    "thread_messages = client.beta.threads.messages.list(message.thread_id)\n",
    "#print(thread_messages.data[0].content[0].text.value)\n",
    "print(thread_messages.data) # Does this have an assistant id?"
   ]
  },
  {
   "cell_type": "markdown",
   "metadata": {},
   "source": [
    "### Creating and running the assistant"
   ]
  },
  {
   "cell_type": "code",
   "execution_count": 6,
   "metadata": {},
   "outputs": [],
   "source": [
    "# Creating the assistant\n",
    "assistant = client.beta.assistants.create(\n",
    "    name=\"Math Tutor\",\n",
    "    instructions=\"You are a personal math tutor. Write and run code to answer math questions.\",\n",
    "    tools=[{\"type\": \"code_interpreter\"}],\n",
    "    model=\"gpt-4-1106-preview\"\n",
    ")"
   ]
  },
  {
   "cell_type": "code",
   "execution_count": 7,
   "metadata": {},
   "outputs": [],
   "source": [
    "# Add the assistant to the thread. I.e We're running the assistant to the thread \n",
    "run = client.beta.threads.runs.create(\n",
    "  thread_id=thread.id,\n",
    "  assistant_id=assistant.id,\n",
    "  instructions=\"Please address the user as Jane Doe. The user has a premium account.\"\n",
    ")\n",
    "#print(run)"
   ]
  },
  {
   "cell_type": "code",
   "execution_count": 8,
   "metadata": {},
   "outputs": [
    {
     "name": "stdout",
     "output_type": "stream",
     "text": [
      "queued\n"
     ]
    }
   ],
   "source": [
    "print(run.status)"
   ]
  },
  {
   "cell_type": "code",
   "execution_count": 9,
   "metadata": {},
   "outputs": [
    {
     "name": "stdout",
     "output_type": "stream",
     "text": [
      "Run(id='run_X1m9wa1v0KaxbpphkxzdYbNA', assistant_id='asst_T6xM35vnmZjOy1pfGIcXrKHe', cancelled_at=None, completed_at=1699582512, created_at=1699582507, expires_at=None, failed_at=None, file_ids=[], instructions='Please address the user as Jane Doe. The user has a premium account.', last_error=None, metadata={}, model='gpt-4-1106-preview', object='thread.run', required_action=None, started_at=1699582507, status='completed', thread_id='thread_VyoqRMiKYzgkuyc5FdX2cspl', tools=[ToolAssistantToolsCode(type='code_interpreter')])\n"
     ]
    }
   ],
   "source": [
    "# Display the assistant's response.\n",
    "#The response we get back is information about the run.\n",
    "#For example the status of the run, the assistant's response, and the assistant's response time.\n",
    "assistant_response = client.beta.threads.runs.retrieve(\n",
    "  thread_id=thread.id,\n",
    "  run_id=run.id\n",
    ")\n",
    "\n",
    "# Get information about the run.\n",
    "print(assistant_response)"
   ]
  },
  {
   "cell_type": "code",
   "execution_count": 10,
   "metadata": {},
   "outputs": [
    {
     "data": {
      "text/plain": [
       "openai.types.beta.threads.run.Run"
      ]
     },
     "execution_count": 10,
     "metadata": {},
     "output_type": "execute_result"
    }
   ],
   "source": [
    "type(assistant_response)"
   ]
  },
  {
   "cell_type": "code",
   "execution_count": 11,
   "metadata": {},
   "outputs": [
    {
     "data": {
      "text/plain": [
       "list"
      ]
     },
     "execution_count": 11,
     "metadata": {},
     "output_type": "execute_result"
    }
   ],
   "source": [
    "# retrieve the Messages added by the Assistant to the Thread\n",
    "thread_messages = client.beta.threads.messages.list(message.thread_id)\n",
    "type(thread_messages.data) # prints list\n",
    "# unpack the list\n",
    "#for message in thread_messages.data:\n",
    "#    print(message.content)\n",
    "#print(thread_messages.data[0].content)\n",
    "# print type of content\n",
    "#type(thread_messages.data[0].content) # prints list\n",
    "# print what is in the list\n",
    "#print(thread_messages.data[0].content[0].text.value)\n",
    "\n"
   ]
  },
  {
   "cell_type": "code",
   "execution_count": 12,
   "metadata": {},
   "outputs": [
    {
     "name": "stdout",
     "output_type": "stream",
     "text": [
      "[ThreadMessage(id='msg_AkhwokTtfYabDUuoNRkzh9hV', assistant_id='asst_T6xM35vnmZjOy1pfGIcXrKHe', content=[MessageContentText(text=Text(annotations=[], value='The solution to the equation \\\\(3x + 11 = 14\\\\) is \\\\(x = 1\\\\).'), type='text')], created_at=1699582511, file_ids=[], metadata={}, object='thread.message', role='assistant', run_id='run_X1m9wa1v0KaxbpphkxzdYbNA', thread_id='thread_VyoqRMiKYzgkuyc5FdX2cspl'), ThreadMessage(id='msg_cUrofbY1NWdG3Q9NkVcpxbIn', assistant_id=None, content=[MessageContentText(text=Text(annotations=[], value='I need to solve the equation `3x + 11 = 14`. Can you help me?'), type='text')], created_at=1699582492, file_ids=[], metadata={}, object='thread.message', role='user', run_id=None, thread_id='thread_VyoqRMiKYzgkuyc5FdX2cspl')]\n"
     ]
    }
   ],
   "source": [
    "print(thread_messages.data) # Contains details about both the user and assistant messages"
   ]
  },
  {
   "cell_type": "code",
   "execution_count": 13,
   "metadata": {},
   "outputs": [
    {
     "name": "stdout",
     "output_type": "stream",
     "text": [
      "Your question: 👇\n",
      "I need to solve the equation `3x + 11 = 14`. Can you help me?\n"
     ]
    }
   ],
   "source": [
    "# Get the user message\n",
    "print(\"Your question: 👇\")\n",
    "print(thread_messages.data[1].content[0].text.value)"
   ]
  },
  {
   "cell_type": "code",
   "execution_count": 14,
   "metadata": {},
   "outputs": [
    {
     "name": "stdout",
     "output_type": "stream",
     "text": [
      "Assistant response is:\n",
      "The solution to the equation \\(3x + 11 = 14\\) is \\(x = 1\\).\n"
     ]
    }
   ],
   "source": [
    "# Get the assistant's response\n",
    "print(\"Assistant response is:\")\n",
    "print(thread_messages.data[0].content[0].text.value)"
   ]
  },
  {
   "cell_type": "markdown",
   "metadata": {},
   "source": [
    "### New interaction\n",
    "\n",
    "- Create a new message\n",
    "- Invoke a new instance of assistant on the thread"
   ]
  },
  {
   "cell_type": "code",
   "execution_count": 15,
   "metadata": {},
   "outputs": [],
   "source": [
    "# add a message to a thread\n",
    "new_message = client.beta.threads.messages.create(\n",
    "    thread_id=thread.id,\n",
    "    role=\"user\",\n",
    "    content=\"Please explain your reasoning\"\n",
    ")"
   ]
  },
  {
   "cell_type": "code",
   "execution_count": 16,
   "metadata": {},
   "outputs": [],
   "source": [
    "# New invokation of the assistant\n",
    "run = client.beta.threads.runs.create(\n",
    "  thread_id=thread.id,\n",
    "  assistant_id=assistant.id,\n",
    "  instructions=\"Please address the user as Jane Doe. The user has a premium account.\"\n",
    ")"
   ]
  },
  {
   "cell_type": "code",
   "execution_count": 17,
   "metadata": {},
   "outputs": [
    {
     "name": "stdout",
     "output_type": "stream",
     "text": [
      "queued\n"
     ]
    }
   ],
   "source": [
    "print(run.status)"
   ]
  },
  {
   "cell_type": "code",
   "execution_count": 18,
   "metadata": {},
   "outputs": [
    {
     "name": "stdout",
     "output_type": "stream",
     "text": [
      "ThreadMessage(id='msg_UIyFx6b2IB4yF4h0pxFdCkys', assistant_id='asst_T6xM35vnmZjOy1pfGIcXrKHe', content=[MessageContentText(text=Text(annotations=[], value='Sure! To solve the equation \\\\(3x + 11 = 14\\\\), we follow these steps:\\n\\n1. We start with the given equation:\\n   \\\\[3x + 11 = 14\\\\]\\n\\n2. Our goal is to isolate \\\\(x\\\\) on one side of the equation to find its value. To do this, we can start by subtracting \\\\(11\\\\) from both sides of the equation to get rid of the constant term on the same side as \\\\(x\\\\). This gives us:\\n   \\\\[3x + 11 - 11 = 14 - 11\\\\]\\n   Simplifying this results in:\\n   \\\\[3x = 3\\\\]\\n\\n3. Now we have \\\\(3x\\\\) equals \\\\(3\\\\). The next step is to divide both sides by \\\\(3\\\\) to solve for \\\\(x\\\\):\\n   \\\\[\\\\frac{3x}{3} = \\\\frac{3}{3}\\\\]\\n   Simplifying, we find:\\n   \\\\[x = 1\\\\]\\n\\nSo the solution to the equation is \\\\(x = 1\\\\). This value of \\\\(x\\\\) will satisfy the original equation. We can verify this by plugging the solution back into the original equation. If both sides are equal after substitution, then the solution is correct:\\n\\n\\\\[3(1) + 11 = 3 + 11 = 14\\\\]\\n\\nHence, \\\\(x = 1\\\\) is the correct solution to the equation \\\\(3x + 11 = 14\\\\).'), type='text')], created_at=1699582589, file_ids=[], metadata={}, object='thread.message', role='assistant', run_id='run_GQZwvNALQDczcMj6e6dqKz2O', thread_id='thread_VyoqRMiKYzgkuyc5FdX2cspl')\n"
     ]
    }
   ],
   "source": [
    "thread_messages = client.beta.threads.messages.list(new_message.thread_id)\n",
    "# Get the assistant's response\n",
    "#print(\"Assistant response is:\")\n",
    "print(thread_messages.data[0])"
   ]
  },
  {
   "cell_type": "code",
   "execution_count": 19,
   "metadata": {},
   "outputs": [
    {
     "name": "stdout",
     "output_type": "stream",
     "text": [
      "Assistant response is:\n",
      "Sure! To solve the equation \\(3x + 11 = 14\\), we follow these steps:\n",
      "\n",
      "1. We start with the given equation:\n",
      "   \\[3x + 11 = 14\\]\n",
      "\n",
      "2. Our goal is to isolate \\(x\\) on one side of the equation to find its value. To do this, we can start by subtracting \\(11\\) from both sides of the equation to get rid of the constant term on the same side as \\(x\\). This gives us:\n",
      "   \\[3x + 11 - 11 = 14 - 11\\]\n",
      "   Simplifying this results in:\n",
      "   \\[3x = 3\\]\n",
      "\n",
      "3. Now we have \\(3x\\) equals \\(3\\). The next step is to divide both sides by \\(3\\) to solve for \\(x\\):\n",
      "   \\[\\frac{3x}{3} = \\frac{3}{3}\\]\n",
      "   Simplifying, we find:\n",
      "   \\[x = 1\\]\n",
      "\n",
      "So the solution to the equation is \\(x = 1\\). This value of \\(x\\) will satisfy the original equation. We can verify this by plugging the solution back into the original equation. If both sides are equal after substitution, then the solution is correct:\n",
      "\n",
      "\\[3(1) + 11 = 3 + 11 = 14\\]\n",
      "\n",
      "Hence, \\(x = 1\\) is the correct solution to the equation \\(3x + 11 = 14\\).\n"
     ]
    }
   ],
   "source": [
    "# Get the assistant's response\n",
    "print(\"Assistant response is:\")\n",
    "print(thread_messages.data[0].content[0].text.value)"
   ]
  },
  {
   "cell_type": "code",
   "execution_count": null,
   "metadata": {},
   "outputs": [],
   "source": []
  },
  {
   "cell_type": "code",
   "execution_count": null,
   "metadata": {},
   "outputs": [],
   "source": []
  }
 ],
 "metadata": {
  "kernelspec": {
   "display_name": "venv",
   "language": "python",
   "name": "python3"
  },
  "language_info": {
   "codemirror_mode": {
    "name": "ipython",
    "version": 3
   },
   "file_extension": ".py",
   "mimetype": "text/x-python",
   "name": "python",
   "nbconvert_exporter": "python",
   "pygments_lexer": "ipython3",
   "version": "3.12.1"
  }
 },
 "nbformat": 4,
 "nbformat_minor": 2
}
