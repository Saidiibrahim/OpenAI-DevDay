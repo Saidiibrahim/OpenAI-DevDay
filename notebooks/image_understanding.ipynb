{
 "cells": [
  {
   "cell_type": "code",
   "execution_count": 2,
   "metadata": {},
   "outputs": [],
   "source": [
    "from openai import OpenAI\n",
    "from dotenv import load_dotenv\n",
    "import os\n",
    "\n",
    "# env variables\n",
    "load_dotenv()\n",
    "my_key = os.getenv('OPENAI_API_KEY')\n",
    "\n",
    "# OpenAI API\n",
    "client = OpenAI(api_key=my_key)"
   ]
  },
  {
   "cell_type": "code",
   "execution_count": 8,
   "metadata": {},
   "outputs": [],
   "source": [
    "def load_image_for_gpt(image_path):\n",
    "    import base64\n",
    "    base64_image = base64.b64encode(open(image_path, \"rb\").read()).decode(\"utf-8\")\n",
    "    return base64_image\n",
    "\n",
    "# more infos on gpt-4-vision api in here: https://platform.openai.com/docs/guides/vision\n",
    "def get_image_descriptions(base64_images):\n",
    "    content_images = [{\"type\": \"image_url\", \"image_url\": {\"url\": f\"data:image/jpeg;base64,{base64_image}\"}} for base64_image in base64_images]\n",
    "    response = client.chat.completions.create(\n",
    "    model=\"gpt-4-vision-preview\",\n",
    "    messages=[\n",
    "        {\n",
    "            \"role\": \"user\",\n",
    "            \"content\": [\n",
    "                {\"type\": \"text\", \"text\": \"You're a football(soccer) referee. Please describe what is happening in the provided images.\"}\n",
    "            ] + content_images,\n",
    "        }\n",
    "    ],\n",
    "    max_tokens=1000,\n",
    "    )\n",
    "    return response.choices[0].message.content\n"
   ]
  },
  {
   "cell_type": "code",
   "execution_count": 9,
   "metadata": {},
   "outputs": [
    {
     "data": {
      "text/plain": [
       "\"As a football referee, analyzing the provided images would involve assessing potential fouls during the match. I'll provide an assessment based on each image:\\n\\n1. In the first image, it looks like there's a physical clash between two players from opposing teams. One player in a red kit appears to have his arm around the neck of a player in a blue kit, who is in an off-balance position. The referee would need to judge whether the contact was incidental or resulted from a deliberate action. If it's deemed a deliberate foul, the appropriate action might be to award a free kick to the team of the player in blue and possibly consider disciplinary measures such as a yellow or red card, depending on the severity and intent of the action.\\n\\n2. The second image shows a player from the team in white on the ground apparently executing a sliding tackle, with a player from the team in red having been knocked to the ground. The referee must evaluate whether the player in white played the ball legally or whether the player conducted a reckless or dangerous challenge on the opponent. If the latter is concluded, the referee would award a free kick to the team in red and consider a caution (yellow card) or sending off (red card) for serious foul play or use of excessive force.\\n\\nThe context of these situations, such as the speed of play, the angle of the challenge, and the players' previous actions, greatly influences the referee's decision-making process. Referees must also consider the Laws of the Game and the guidance provided by football associations to ensure their decisions promote fair play and player safety.\""
      ]
     },
     "execution_count": 9,
     "metadata": {},
     "output_type": "execute_result"
    }
   ],
   "source": [
    "img_one = load_image_for_gpt(\"data/image03.png\")\n",
    "img_two = load_image_for_gpt(\"data/image05.png\")\n",
    "get_image_descriptions([img_one, img_two])"
   ]
  },
  {
   "cell_type": "code",
   "execution_count": null,
   "metadata": {},
   "outputs": [],
   "source": []
  }
 ],
 "metadata": {
  "kernelspec": {
   "display_name": "venv",
   "language": "python",
   "name": "python3"
  },
  "language_info": {
   "codemirror_mode": {
    "name": "ipython",
    "version": 3
   },
   "file_extension": ".py",
   "mimetype": "text/x-python",
   "name": "python",
   "nbconvert_exporter": "python",
   "pygments_lexer": "ipython3",
   "version": "3.11.6"
  }
 },
 "nbformat": 4,
 "nbformat_minor": 2
}
