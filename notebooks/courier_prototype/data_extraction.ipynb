{
 "cells": [
  {
   "cell_type": "markdown",
   "metadata": {},
   "source": [
    "# Intro\n",
    "\n",
    "This project is designed simulate a workflow where a logistics officer would use an AI to extract data from invoices and save them to a database."
   ]
  },
  {
   "cell_type": "code",
   "execution_count": 1,
   "metadata": {},
   "outputs": [],
   "source": [
    "import getpass\n",
    "import os\n",
    "\n",
    "\n",
    "def _set_if_undefined(var: str):\n",
    "    if not os.environ.get(var):\n",
    "        os.environ[var] = getpass(f\"Please provide your {var}\")\n",
    "\n",
    "\n",
    "_set_if_undefined(\"OPENAI_API_KEY\")\n",
    "_set_if_undefined(\"LANGCHAIN_API_KEY\")\n",
    "_set_if_undefined(\"TAVILY_API_KEY\")\n",
    "\n",
    "# Optional, add tracing in LangSmith\n",
    "os.environ[\"LANGCHAIN_TRACING_V2\"] = \"true\"\n",
    "os.environ[\"LANGCHAIN_PROJECT\"] = \"🚀Custom_OpenAI_Agent\"\n",
    "\n"
   ]
  },
  {
   "cell_type": "code",
   "execution_count": 2,
   "metadata": {},
   "outputs": [],
   "source": [
    "# imports\n",
    "import base64\n",
    "import os\n",
    "from enum import Enum\n",
    "from io import BytesIO\n",
    "from typing import Iterable\n",
    "from typing import List\n",
    "from typing import Literal, Optional\n",
    "\n",
    "import fitz\n",
    "# Instructor is powered by Pydantic, which is powered by type hints. Schema validation, prompting is controlled by type annotations\n",
    "import instructor\n",
    "import matplotlib.pyplot as plt\n",
    "import pandas as pd\n",
    "from IPython.display import display\n",
    "from PIL import Image\n",
    "from openai import OpenAI\n",
    "from pydantic import BaseModel, Field\n",
    "import json\n"
   ]
  },
  {
   "cell_type": "markdown",
   "metadata": {},
   "source": [
    "# Data Structures"
   ]
  },
  {
   "cell_type": "code",
   "execution_count": 3,
   "metadata": {},
   "outputs": [],
   "source": [
    "# Define Pydantic models to extract data from sample_invoice\n",
    "class InvoiceDetails(BaseModel):\n",
    "    invoice_number: str = Field(..., title=\"Invoice Number\")\n",
    "    purchase_order_number: str = Field(..., title=\"Purchase Order\")\n",
    "    due_date: str = Field(..., title=\"Due Date\")\n",
    "    invoice_date: str = Field(..., title=\"Invoice Date\")\n",
    "    invoice_subtotal: str = Field(..., title=\"Invoice Subtotal\")\n",
    "    invoice_total: str = Field(..., title=\"Invoice Total\")\n"
   ]
  },
  {
   "cell_type": "markdown",
   "metadata": {},
   "source": [
    "## Helper functions"
   ]
  },
  {
   "cell_type": "code",
   "execution_count": 4,
   "metadata": {},
   "outputs": [],
   "source": [
    "# Function to encode the image as base64\n",
    "def encode_image(image_path: str):\n",
    "    # check if the image exists\n",
    "    if not os.path.exists(image_path):\n",
    "        raise FileNotFoundError(f\"Image file not found: {image_path}\")\n",
    "    with open(image_path, \"rb\") as image_file:\n",
    "        return base64.b64encode(image_file.read()).decode('utf-8')\n",
    "    \n",
    "\n",
    "\n",
    "def parse_invoice(base64_img: str) -> InvoiceDetails:\n",
    "    response = instructor.from_openai(OpenAI()).chat.completions.create(\n",
    "        model='gpt-4-turbo',\n",
    "        response_model=InvoiceDetails,\n",
    "        messages=[\n",
    "            {\n",
    "                \"role\": \"user\",\n",
    "                \"content\": 'Analyze the given invoice and very carefully extract the information.',\n",
    "            },\n",
    "            {\n",
    "                \"role\": \"user\",\n",
    "                \"content\": [\n",
    "                    {\n",
    "                        \"type\": \"image_url\",\n",
    "                        \"image_url\": {\n",
    "                            \"url\": f\"data:image/jpeg;base64,{base64_img}\"\n",
    "                        }\n",
    "                    },\n",
    "                ],\n",
    "            }\n",
    "        ],\n",
    "    )\n",
    "    result = response.model_dump_json()\n",
    "    return result\n"
   ]
  },
  {
   "cell_type": "markdown",
   "metadata": {},
   "source": [
    "# Testing"
   ]
  },
  {
   "cell_type": "code",
   "execution_count": null,
   "metadata": {},
   "outputs": [],
   "source": [
    "# create the base64 image\n",
    "base64_image = encode_image(\"sample_invoice.png\")\n",
    "\n",
    "result = parse_invoice(base64_image)\n",
    "\n",
    "print(result)\n",
    "\n"
   ]
  },
  {
   "cell_type": "code",
   "execution_count": null,
   "metadata": {},
   "outputs": [],
   "source": [
    "# check if the result is a dictionary\n",
    "if isinstance(result, dict):\n",
    "    print(\"Result is a dictionary\")\n",
    "else:\n",
    "    print(\"Result is not a dictionary\")\n",
    "\n"
   ]
  },
  {
   "cell_type": "code",
   "execution_count": null,
   "metadata": {},
   "outputs": [],
   "source": [
    "# Testing the type and content of the result\n",
    "print(type(result))\n",
    "print(result)\n",
    "\n",
    "# If result is a JSON string, convert it to a dictionary\n",
    "if isinstance(result, str):\n",
    "    try:\n",
    "        result = json.loads(result)\n",
    "        print(\"Converted JSON string to dictionary.\")\n",
    "    except json.JSONDecodeError:\n",
    "        print(\"Failed to decode JSON string.\")"
   ]
  },
  {
   "cell_type": "code",
   "execution_count": null,
   "metadata": {},
   "outputs": [],
   "source": [
    "# # Read in the saved JSON file\n",
    "# with open(\"resume_data.json\", \"r\") as file:\n",
    "#     invoice_data = json.load(file)\n",
    "\n",
    "# print(invoice_data)\n",
    "\n"
   ]
  },
  {
   "cell_type": "markdown",
   "metadata": {},
   "source": [
    "# Simulating Data Saving"
   ]
  },
  {
   "cell_type": "code",
   "execution_count": null,
   "metadata": {},
   "outputs": [],
   "source": [
    "# Simulate saving the data to the database\n",
    "# This is where you would put your code to save the data to the database\n",
    "# Start by creating a pandas dataframe from the json data\n",
    "df = pd.DataFrame(result, index=[0])\n",
    "# print the dataframe\n",
    "print(df)\n",
    "\n",
    "\n",
    "\n",
    "\n"
   ]
  },
  {
   "cell_type": "code",
   "execution_count": null,
   "metadata": {},
   "outputs": [],
   "source": [
    "df.head()"
   ]
  },
  {
   "cell_type": "markdown",
   "metadata": {},
   "source": [
    "# Simulating saving to a database"
   ]
  },
  {
   "cell_type": "code",
   "execution_count": 5,
   "metadata": {},
   "outputs": [],
   "source": [
    "# Create a sqlite database\n",
    "import sqlite3\n",
    "\n",
    "# Connect to a database (or create one if it doesn't exist)\n",
    "conn = sqlite3.connect('invoices.db')\n",
    "\n",
    "# Create a cursor object using the cursor method\n",
    "cursor = conn.cursor()\n",
    "\n",
    "# Create a table\n",
    "cursor.execute('''\n",
    "CREATE TABLE IF NOT EXISTS invoices (\n",
    "    invoice_number TEXT,\n",
    "    purchase_order_number TEXT,\n",
    "    due_date TEXT,\n",
    "    invoice_date TEXT,\n",
    "    invoice_subtotal TEXT,\n",
    "    invoice_total TEXT\n",
    ")\n",
    "''')\n",
    "\n",
    "# Commit the changes and close the connection\n",
    "conn.commit()\n",
    "conn.close()"
   ]
  },
  {
   "cell_type": "code",
   "execution_count": null,
   "metadata": {},
   "outputs": [],
   "source": [
    "# import sqlite3\n",
    "# import pandas as pd\n",
    "\n",
    "# # Connect to the SQLite database\n",
    "# conn = sqlite3.connect('invoices.db')\n",
    "\n",
    "# # Write the data to a sqlite table\n",
    "# df.to_sql('invoices', conn, if_exists='append', index=False)\n",
    "\n",
    "# # Commit the changes and close the connection\n",
    "# conn.commit()\n",
    "# conn.close()"
   ]
  },
  {
   "cell_type": "code",
   "execution_count": null,
   "metadata": {},
   "outputs": [],
   "source": [
    "# import sqlite3\n",
    "\n",
    "# # Connect to the SQLite database\n",
    "# conn = sqlite3.connect('invoices.db')\n",
    "\n",
    "# # Create a cursor object\n",
    "# cursor = conn.cursor()\n",
    "\n",
    "# # Execute a query to select all records from the 'invoices' table\n",
    "# cursor.execute(\"SELECT * FROM invoices\")\n",
    "\n",
    "# # Fetch all rows from the query\n",
    "# rows = cursor.fetchall()\n",
    "\n",
    "# # Print each row\n",
    "# for row in rows:\n",
    "#     print(row)\n",
    "\n",
    "# # Close the cursor and the connection\n",
    "# cursor.close()\n",
    "# conn.close()"
   ]
  },
  {
   "cell_type": "code",
   "execution_count": null,
   "metadata": {},
   "outputs": [],
   "source": [
    "# import sqlite3\n",
    "# import pandas as pd\n",
    "\n",
    "# # Connect to the SQLite database\n",
    "# conn = sqlite3.connect('invoices.db')\n",
    "\n",
    "# # Query the database for all records in the 'invoices' table\n",
    "# query = \"SELECT * FROM invoices\"\n",
    "# df = pd.read_sql_query(query, conn)\n",
    "\n",
    "# # Display the DataFrame\n",
    "# print(df)\n",
    "\n",
    "# # Close the connection\n",
    "# conn.close()"
   ]
  },
  {
   "cell_type": "markdown",
   "metadata": {},
   "source": [
    "# Simulating a complete workflow"
   ]
  },
  {
   "cell_type": "code",
   "execution_count": 6,
   "metadata": {},
   "outputs": [],
   "source": [
    "def extract_invoice_data(input_image_path: str = \"sample_invoice.png\") -> InvoiceDetails:\n",
    "    # Encode the image\n",
    "    base64_img = encode_image(input_image_path)\n",
    "    response = instructor.from_openai(OpenAI()).chat.completions.create(\n",
    "        model='gpt-4-turbo',\n",
    "        response_model=InvoiceDetails,\n",
    "        messages=[\n",
    "            {\n",
    "                \"role\": \"user\",\n",
    "                \"content\": 'Analyze the given invoice and very carefully extract the information.',\n",
    "            },\n",
    "            {\n",
    "                \"role\": \"user\",\n",
    "                \"content\": [\n",
    "                    {\n",
    "                        \"type\": \"image_url\",\n",
    "                        \"image_url\": {\n",
    "                            \"url\": f\"data:image/jpeg;base64,{base64_img}\"\n",
    "                        }\n",
    "                    },\n",
    "                ],\n",
    "            }\n",
    "        ],\n",
    "    )\n",
    "    extracted_data = response.model_dump_json()\n",
    "    result = json.loads(extracted_data)\n",
    "    return result\n",
    "\n"
   ]
  },
  {
   "cell_type": "code",
   "execution_count": 7,
   "metadata": {},
   "outputs": [],
   "source": [
    "# A function to save results to a database\n",
    "def save_results_to_database(results: dict):\n",
    "    # Convert the results to a DataFrame\n",
    "    df = pd.DataFrame(results, index=[0])\n",
    "    # Connect to the SQLite database\n",
    "    conn = sqlite3.connect('invoices.db')\n",
    "    # Write the data to a sqlite table\n",
    "    df.to_sql('invoices', conn, if_exists='append', index=False)\n",
    "    # Commit the changes and close the connection\n",
    "    conn.commit()\n",
    "    conn.close()\n",
    "    return \"Data saved to database\"\n",
    "\n"
   ]
  },
  {
   "cell_type": "code",
   "execution_count": null,
   "metadata": {},
   "outputs": [],
   "source": [
    "invoice_data = extract_invoice_data()\n",
    "save_results_to_database(invoice_data)\n",
    "\n"
   ]
  },
  {
   "cell_type": "code",
   "execution_count": 8,
   "metadata": {},
   "outputs": [
    {
     "name": "stdout",
     "output_type": "stream",
     "text": [
      "Successfully extracted data from invoice: sample_invoice.png\n",
      "Successfully saved data to database for invoice: sample_invoice.png\n",
      "Successfully extracted data from invoice: sample_invoice_2.png\n",
      "Successfully saved data to database for invoice: sample_invoice_2.png\n"
     ]
    }
   ],
   "source": [
    "# Define a list of invoice image paths\n",
    "invoices = [\"sample_invoice.png\", \"sample_invoice_2.png\"]\n",
    "\n",
    "# Loop through each invoice in the list\n",
    "for invoice_path in invoices:\n",
    "    # Call the extract_invoice_data function for each invoice\n",
    "    invoice_data = extract_invoice_data(invoice_path)\n",
    "    # Optionally, print or process the extracted data\n",
    "    print(f\"Successfully extracted data from invoice: {invoice_path}\")\n",
    "    # save the data to the database\n",
    "    save_results_to_database(invoice_data)\n",
    "    print(f\"Successfully saved data to database for invoice: {invoice_path}\")\n",
    "\n"
   ]
  },
  {
   "cell_type": "code",
   "execution_count": 9,
   "metadata": {},
   "outputs": [
    {
     "name": "stdout",
     "output_type": "stream",
     "text": [
      "  invoice_number purchase_order_number    due_date invoice_date  \\\n",
      "0         AU-001             1430/2019  26/04/2019   29/01/2019   \n",
      "1         AU-001             1430/2019  26/04/2019   29/01/2019   \n",
      "\n",
      "  invoice_subtotal invoice_total  \n",
      "0           186.00        204.60  \n",
      "1           186.00        204.60  \n"
     ]
    }
   ],
   "source": [
    "import sqlite3\n",
    "import pandas as pd\n",
    "\n",
    "# Connect to the SQLite database\n",
    "conn = sqlite3.connect('invoices.db')\n",
    "\n",
    "# Query the database for all records in the 'invoices' table\n",
    "query = \"SELECT * FROM invoices\"\n",
    "df = pd.read_sql_query(query, conn)\n",
    "\n",
    "# Display the DataFrame\n",
    "print(df)\n",
    "\n",
    "# Close the connection\n",
    "conn.close()"
   ]
  },
  {
   "cell_type": "code",
   "execution_count": null,
   "metadata": {},
   "outputs": [],
   "source": []
  }
 ],
 "metadata": {
  "kernelspec": {
   "display_name": ".venv",
   "language": "python",
   "name": "python3"
  },
  "language_info": {
   "codemirror_mode": {
    "name": "ipython",
    "version": 3
   },
   "file_extension": ".py",
   "mimetype": "text/x-python",
   "name": "python",
   "nbconvert_exporter": "python",
   "pygments_lexer": "ipython3",
   "version": "3.12.3"
  }
 },
 "nbformat": 4,
 "nbformat_minor": 2
}
